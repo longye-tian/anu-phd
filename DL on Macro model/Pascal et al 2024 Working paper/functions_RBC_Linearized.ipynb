{
 "cells": [
  {
   "cell_type": "markdown",
   "id": "ccbae77f",
   "metadata": {},
   "source": [
    "# Functions RBC Model Linearized\n",
    "\n",
    "## Description\n",
    "\n",
    "* Functions to solve RBC by linearization\n",
    "* LTI code from \"Computational Notes on Heterogeneous-Agent Macroeconomics\"\n",
    "ALISDAIR MCKAY\n",
    "\n",
    "https://alisdairmckay.com/Notes/HetAgents/"
   ]
  },
  {
   "cell_type": "code",
   "execution_count": 9,
   "id": "4e84d85c-48d6-4536-bac8-3a662c282016",
   "metadata": {
    "gather": {
     "logged": 1692709095633
    },
    "jupyter": {
     "outputs_hidden": false,
     "source_hidden": false
    },
    "nteract": {
     "transient": {
      "deleting": false
     }
    }
   },
   "outputs": [],
   "source": [
    "# Store parameters\n",
    "class RBC():\n",
    "    def __init__(self, α, eta, rho, β, delta, σ_e):\n",
    "        # Params\n",
    "        self.α=α #parameter production function\n",
    "        self.eta=eta #parameter utility function\n",
    "        self.rho = rho #persistence parameter of shocks\n",
    "        self.one_min_α = 1.0 - self.α\n",
    "        self.β = β #discount factor\n",
    "        self.delta = delta #depreciation rate\n",
    "        #parameter to define the true solution when delta = 1.0\n",
    "        self.gamma = ((1.0 - self.α)*self.eta)/((1.0 - self.α*self.β)*(1 - self.eta)) \n",
    "        #labor supply when delta = 1.0\n",
    "        self.n_cst = self.gamma/(1 + self.gamma)\n",
    "        # Standard shocks\n",
    "        self.σ_e = σ_e #innovation TFP shocks\n",
    "        ## Solutions when delta = 1.0\n",
    "        # c(t)\n",
    "        c_delta_one = lambda x: (1 - self.α*self.β)*x\n",
    "        self.c_delta_one = c_delta_one\n",
    "        # k(t)\n",
    "        k_delta_one = lambda x: self.α * self.β * x\n",
    "        self.k_delta_one = k_delta_one\n",
    "        # n(t)\n",
    "        n_delta_one = lambda x: self.n_cst\n",
    "        self.n_delta_one = n_delta_one\n",
    "        ## SS when delta = 1.0\n",
    "        ## nss\n",
    "        self.n_ss_delta_one = self.n_cst\n",
    "        # y_ss\n",
    "        self.y_ss_delta_one = ((self.α * self.β)**(self.α/(1 - self.α)))*self.n_ss_delta_one \n",
    "        # kss:\n",
    "        self.k_ss_delta_one = self.k_delta_one(self.y_ss_delta_one)\n",
    "        # css:\n",
    "        self.c_ss_delta_one = self.c_delta_one(self.y_ss_delta_one)\n",
    "        ## investment ss:\n",
    "        self.invest_ss_delta_one = self.y_ss_delta_one - self.c_ss_delta_one\n",
    "        # initiliaze linear solutionss\n",
    "        self.P = []\n",
    "        self.Q = []"
   ]
  },
  {
   "cell_type": "markdown",
   "id": "c45337a6",
   "metadata": {},
   "source": [
    "## II. Linearized solution\n",
    "\n"
   ]
  },
  {
   "cell_type": "code",
   "execution_count": 11,
   "id": "cc2328dd-16e5-452f-8334-355883399ee0",
   "metadata": {
    "gather": {
     "logged": 1692709097253
    },
    "jupyter": {
     "outputs_hidden": false,
     "source_hidden": false
    },
    "nteract": {
     "transient": {
      "deleting": false
     }
    }
   },
   "outputs": [],
   "source": [
    "# Functions from\n",
    "#Codes for Heterogeneous-Agent Macro Lecture notes.\n",
    "#Alisdair McKay\n",
    "#https://alisdairmckay.com/Notes/HetAgents/\n",
    "\n",
    "\n",
    "def GetStationaryDist(T):\n",
    "    eval,evec = np.linalg.eig(T)\n",
    "    i = np.argmin(np.abs(eval-1.0))\n",
    "    D = np.array(evec[:,i]).flatten()\n",
    "    assert np.max(np.abs(np.imag(D))) < 1e-6\n",
    "    D = np.real(D)  # just recasts as float\n",
    "    return D/D.sum()\n",
    "\n",
    "# Solve the system\n",
    "def SolveSystem(A,B,C,E,P0=None):\n",
    "    # Solve the system using linear time iteration as in Rendahl (2017)\n",
    "    # print(\"Solving the system\")\n",
    "    MAXIT = 1000\n",
    "    if P0 is None:\n",
    "        P = np.zeros(A.shape)\n",
    "    else:\n",
    "        P = P0\n",
    "\n",
    "    S = np.zeros(A.shape)\n",
    "\n",
    "    for it in range(MAXIT):\n",
    "        P = -np.linalg.lstsq(B+A@P,C,rcond=None)[0]\n",
    "        S = -np.linalg.lstsq(B+C@S,A,rcond=None)[0]\n",
    "        test = np.max(np.abs(C+B@P+A@P@P))\n",
    "        #if it % 20 == 0:\n",
    "        #    print(test)\n",
    "        if test < 1e-7:\n",
    "            break\n",
    "\n",
    "    if it == MAXIT-1:\n",
    "        warnings.warn('LTI did not converge.')\n",
    "\n",
    "\n",
    "    # test Blanchard-Kahn conditions\n",
    "    if np.max(np.linalg.eig(P)[0])  >1:\n",
    "        raise RuntimeError(\"Model does not satisfy BK conditions -- non-existence\")\n",
    "\n",
    "    if np.max(np.linalg.eig(S)[0]) >1:\n",
    "        raise RuntimeError(\"Model does not satisfy BK conditions -- mulitple stable solutions\")\n",
    "\n",
    "    # Impact matrix\n",
    "    #  Solution is x_{t}=P*x_{t-1}+Q*eps_t\n",
    "    Q = -np.linalg.inv(B+A@P) @ E\n",
    "\n",
    "    return P, Q\n"
   ]
  },
  {
   "cell_type": "code",
   "execution_count": 12,
   "id": "08909392-a943-4b6d-b2f9-2135edfff52f",
   "metadata": {
    "gather": {
     "logged": 1692709097637
    },
    "jupyter": {
     "outputs_hidden": false,
     "source_hidden": false
    },
    "nteract": {
     "transient": {
      "deleting": false
     }
    }
   },
   "outputs": [
    {
     "name": "stdout",
     "output_type": "stream",
     "text": [
      "Steady state: [1.       0.089046 0.281081 0.192034 0.495123]\n"
     ]
    }
   ],
   "source": [
    "# Still inspired by #https://alisdairmckay.com/Notes/HetAgents/\n",
    "# Made modifications to fit the current model\n",
    "nEps = 1 #number of schocks\n",
    "names = ['Z', 'K', 'Y', 'C', 'N']\n",
    "nX = len(names)\n",
    "\n",
    "# Exact solution when delta = 1.0\n",
    "def SteadyStateGuess(rbc):\n",
    "    Z = 1.0\n",
    "    N = rbc.n_cst\n",
    "    K = rbc.k_ss_delta_one\n",
    "    Y = rbc.y_ss_delta_one\n",
    "    C = rbc.c_ss_delta_one\n",
    "    \n",
    "    X = np.zeros(nX)\n",
    "    X = np.array([Z, K, Y, C, N])\n",
    "    return X\n"
   ]
  },
  {
   "cell_type": "code",
   "execution_count": 13,
   "id": "505f5f97-28d7-4454-aab7-01a27b2fbdd2",
   "metadata": {
    "gather": {
     "logged": 1692709097939
    },
    "jupyter": {
     "outputs_hidden": false,
     "source_hidden": false
    },
    "nteract": {
     "transient": {
      "deleting": false
     }
    }
   },
   "outputs": [],
   "source": [
    "# Model equations\n",
    "def F(X_Lag, X, X_Prime, epsilon, rbc):\n",
    "\n",
    "    # Unpack\n",
    "    Z, K, Y, C, N = X # X_t\n",
    "    Z_L, K_L, Y_L, C_L, N_L = X_Lag #X_{t-1}\n",
    "    Z_P, K_P, Y_P, C_P, N_P = X_Prime #X_{t+1}\n",
    "\n",
    "\n",
    "    return np.hstack((\n",
    "            rbc.β*((C/C_P)*(rbc.α*(Y_P/K) + 1.0 - rbc.delta)) - 1.0, # Euler equation\n",
    "            C - (rbc.eta*(1-rbc.α)/(1 - rbc.eta))*((1 - N)/N)*Y, # FOC labor\n",
    "            (1 - rbc.delta) * K_L + Y - C - K, # Aggregate resource constraint\n",
    "            Z * (K_L**rbc.α)*(N**(1 - rbc.α)) - Y,# Production function\n",
    "            rbc.rho * np.log(Z_L) + epsilon - np.log(Z)# TFP evolution\n",
    "            ))\n",
    "\n"
   ]
  },
  {
   "cell_type": "code",
   "execution_count": 1,
   "id": "81dc3797-a636-40b5-a80a-78305e8d2c1c",
   "metadata": {
    "gather": {
     "logged": 1692797737537
    },
    "jupyter": {
     "outputs_hidden": false,
     "source_hidden": false
    },
    "nteract": {
     "transient": {
      "deleting": false
     }
    }
   },
   "outputs": [],
   "source": [
    "# Function that solves and simulate the linearized model\n",
    "def solve_simulate_linearized(rbc, n_simul = 2000):\n",
    "    nEps = 1 #number of schocks\n",
    "    names = ['Z', 'K', 'Y', 'C', 'N']\n",
    "    nX = len(names)\n",
    "    # SS function\n",
    "    def F_SS(X, rbc, epsilon_SS = 0.0):\n",
    "        return F(X, X, X, epsilon_SS, rbc)\n",
    "    obj_f = lambda x: F_SS(x, rbc)\n",
    "    # Find SS\n",
    "    X_SS = fsolve(obj_f, SteadyStateGuess(rbc))\n",
    "    epsilon_SS = 0.0\n",
    "    safety_check = F(X_SS,X_SS,X_SS, epsilon_SS, rbc)\n",
    "    #print(f\"Max error SS: {np.max(safety_check)}\")\n",
    "    if np.allclose( safety_check , np.zeros(nX)) == False:\n",
    "        raise(f\"No convergence of the SS: {safety_check}\")\n",
    "    # Linearize\n",
    "    A = jacobian(lambda x: F(X_SS,X_SS, x ,epsilon_SS, rbc))(X_SS)\n",
    "    B = jacobian(lambda x: F(X_SS, x, X_SS, epsilon_SS, rbc))(X_SS)\n",
    "    C = jacobian(lambda x: F(x, X_SS,X_SS,epsilon_SS, rbc))(X_SS)\n",
    "    E = jacobian(lambda x: F(X_SS,X_SS,X_SS, x, rbc))(epsilon_SS)\n",
    "    #LTI\n",
    "    P, Q = SolveSystem(A,B,C,E)\n",
    "    # update rbc struct\n",
    "    rbc.P = P.copy()\n",
    "    rbc.Q = Q.copy()\n",
    "    # Extract policy functions\n",
    "    index_z = names.index(\"Z\")\n",
    "    index_k = names.index(\"K\")\n",
    "    index_c = names.index(\"C\")\n",
    "    index_n = names.index(\"N\")\n",
    "    z_ss = X_SS[index_z]\n",
    "    k_ss = X_SS[index_k]\n",
    "    c_ss = X_SS[index_c]\n",
    "    n_ss = X_SS[index_n]\n",
    "    coef_k_P_c = P[index_c,index_k] #for consumption\n",
    "    coef_z_P_c = P[index_c,index_z] #for consumption\n",
    "    coef_z_Q_c = Q[index_c] #for consumption\n",
    "    coef_k_P_n = P[index_n,index_k] #for labor\n",
    "    coef_z_P_n = P[index_n,index_z] #for labor\n",
    "    coef_z_Q_n = Q[index_n] #for labor\n",
    "    coef_k_P_k = P[index_k,index_k] #for kt\n",
    "    coef_z_P_k = P[index_k,index_z] #for kt\n",
    "    coef_z_Q_k = Q[index_k] #for kt\n",
    "    # Policy c(kt-1, at)\n",
    "    def c_linear(k_t_min1, z_t):\n",
    "        #return c_ss - coef_k_P_c*k_ss - coef_z_P_c*z_ss + coef_k_P_c*k_t_min1 + coef_z_Q_c*z_t\n",
    "        return c_ss + coef_k_P_c*(k_t_min1 - k_ss) + coef_z_Q_c*(z_t - z_ss)\n",
    "    # Policy n(kt-1, at)\n",
    "    def n_linear(k_t_min1, z_t):\n",
    "        #return n_ss - coef_k_P_n*k_ss - coef_z_P_n*z_ss + coef_k_P_n*k_t_min1 + coef_z_Q_n*z_t\n",
    "        return n_ss + coef_k_P_n*(k_t_min1 - k_ss) + coef_z_Q_n*(z_t - z_ss)\n",
    "    # Policy k(kt-1, at)\n",
    "    def k_linear(k_t_min1, z_t):\n",
    "        #return k_ss - coef_k_P_k*k_ss - coef_z_P_k*z_ss + coef_k_P_k*k_t_min1 + coef_z_Q_k*z_t\n",
    "        return k_ss + coef_k_P_k*(k_t_min1 - k_ss) + coef_z_Q_k*(z_t - z_ss)\n",
    "    # Simulate\n",
    "    # random simulation\n",
    "    X_t = np.zeros((nX, n_simul))\n",
    "    shocks_t = np.random.normal(loc=0.0, scale=rbc.σ_e, size=n_simul)\n",
    "\n",
    "    # solution is xt = Pxt-1 + Q*ut\n",
    "    for t in range(1,n_simul):\n",
    "        X_t[:,t] = np.matmul(P, X_t[:,t-1]) + Q*shocks_t[t]\n",
    "\n",
    "    # Add back SS value\n",
    "    X_t = X_t + np.expand_dims(X_SS, axis=1)\n",
    "    return X_SS, X_t, c_linear, n_linear, k_linear"
   ]
  }
 ],
 "metadata": {
  "kernel_info": {
   "name": "python38-azureml"
  },
  "kernelspec": {
   "display_name": "Python 3 (ipykernel)",
   "language": "python",
   "name": "python3"
  },
  "language_info": {
   "codemirror_mode": {
    "name": "ipython",
    "version": 3
   },
   "file_extension": ".py",
   "mimetype": "text/x-python",
   "name": "python",
   "nbconvert_exporter": "python",
   "pygments_lexer": "ipython3",
   "version": "3.8.10"
  },
  "microsoft": {
   "host": {
    "AzureML": {
     "notebookHasBeenCompleted": true
    }
   },
   "ms_spell_check": {
    "ms_spell_check_language": "en"
   }
  },
  "nteract": {
   "version": "nteract-front-end@1.0.0"
  }
 },
 "nbformat": 4,
 "nbformat_minor": 5
}
