{
  "nbformat": 4,
  "nbformat_minor": 0,
  "metadata": {
    "colab": {
      "provenance": [],
      "gpuType": "T4"
    },
    "kernelspec": {
      "name": "python3",
      "display_name": "Python 3"
    },
    "language_info": {
      "name": "python"
    },
    "accelerator": "GPU"
  },
  "cells": [
    {
      "cell_type": "markdown",
      "source": [
        "# PBMA Ayagari\n",
        "\n",
        "This notebook aims to illustrate Present-bias with Mixed Actions(PBMA) in the context of Ayagari 1994 model.\n",
        "\n",
        "In Aiyagari 1994 model, uninsured idiosyncratic income shocks cannot generate a fat-tailed wealth distribution under plausible parameters.\n",
        "\n",
        "What happens if agents are having PBMA?"
      ],
      "metadata": {
        "id": "tpu3AomHvJVN"
      }
    },
    {
      "cell_type": "markdown",
      "source": [
        "## Imports"
      ],
      "metadata": {
        "id": "4CriWUyov60M"
      }
    },
    {
      "cell_type": "markdown",
      "source": [
        "Here are the imports."
      ],
      "metadata": {
        "id": "_vnCAUXmwIbc"
      }
    },
    {
      "cell_type": "code",
      "execution_count": 1,
      "metadata": {
        "id": "lmTO-hkmEzgU"
      },
      "outputs": [],
      "source": [
        "import time\n",
        "import jax\n",
        "import jax.numpy as jnp\n",
        "import numpy as np\n",
        "from collections import namedtuple\n",
        "import matplotlib.pyplot as plt\n",
        "from scipy.optimize import bisect\n",
        "jax.config.update(\"jax_enable_x64\", True)"
      ]
    },
    {
      "cell_type": "markdown",
      "source": [
        "We use the following function to compute stationary distribution."
      ],
      "metadata": {
        "id": "Qb3ZVKmfwD4U"
      }
    },
    {
      "cell_type": "code",
      "source": [
        "@jax.jit\n",
        "def compute_stationary(P):\n",
        "    n = P.shape[0]\n",
        "    I = jnp.identity(n)\n",
        "    O = jnp.ones((n, n))\n",
        "    A = I - jnp.transpose(P) + O\n",
        "    return jnp.linalg.solve(A, jnp.ones(n))"
      ],
      "metadata": {
        "id": "j-ilsYBawG3L"
      },
      "execution_count": 3,
      "outputs": []
    },
    {
      "cell_type": "markdown",
      "source": [
        "## Households"
      ],
      "metadata": {
        "id": "8WQYweHWzQKF"
      }
    },
    {
      "cell_type": "markdown",
      "source": [
        "Households have the following characteristics:\n",
        "\n",
        "- infinitely lived\n",
        "- ex-ante identical\n",
        "- face an uninsurable idiosyncratic labor income shocks\n",
        "- face a borrowing constraint\n",
        "- with a short-run discount factor $\\beta$ and a long-run discount factor $\\delta$ and $\\beta\\neq\\delta$."
      ],
      "metadata": {
        "id": "GTErNVW_zR0F"
      }
    },
    {
      "cell_type": "markdown",
      "source": [
        "The saving problem faced by a typical household is\n",
        "\n",
        "$$\n",
        "\\max_{\\{c_t\\}_{t\\ge 0}} \\mathbb{E} \\left[u(c_0)+ \\beta\\sum_{t=1}^\\infty\\delta^t u(c_t)\\right]\n",
        "$$\n",
        "\n",
        "subject to\n",
        "\n",
        "$$\n",
        "a_{t+1}+c_t\\le wz_t +(1+r)a_t, \\quad c_t\\ge 0,\\quad a_t\\le -B\n",
        "$$"
      ],
      "metadata": {
        "id": "ZRv3gV8n2ovG"
      }
    },
    {
      "cell_type": "markdown",
      "source": [
        "where\n",
        "- $c_t$ is the current consumption\n",
        "- $a_t$ is asset holding\n",
        "- $z_t$ is an exogenous conponent of labor income capturing stochastic unemployment risk\n",
        "- $w$ is the wage\n",
        "- $r$ is the interest rate\n",
        "- $B$ is the maximum amount that the agent is allowed the borrow."
      ],
      "metadata": {
        "id": "D09jGT6C3nl4"
      }
    },
    {
      "cell_type": "markdown",
      "source": [
        "Now we setup the household parameters."
      ],
      "metadata": {
        "id": "dTfLrgPY4B2p"
      }
    },
    {
      "cell_type": "code",
      "source": [
        "Household = namedtuple('Household',\n",
        "                       ('β', # short-run discount factor\n",
        "                        'δ', # continuation discount factor\n",
        "                        'a_grid', 'z_grid', 'Π'))"
      ],
      "metadata": {
        "id": "hYY6_aSl4Kng"
      },
      "execution_count": 4,
      "outputs": []
    },
    {
      "cell_type": "code",
      "source": [
        "def create_household(β=0.5,                      # short-run discount factor\n",
        "                     δ=0.96,                       # continuation discount factor\n",
        "                     Π=[[0.9, 0.1], [0.1, 0.9]],  # Markov chain\n",
        "                     z_grid=[0.1, 1.0],           # Exogenous states\n",
        "                     a_min=1e-10, a_max=20,       # Asset grid\n",
        "                     a_size=200):\n",
        "    \"\"\"\n",
        "    Create a namedtuple that stores all data needed to solve the household\n",
        "    problem, given prices.\n",
        "\n",
        "    \"\"\"\n",
        "    a_grid = jnp.linspace(a_min, a_max, a_size)\n",
        "    z_grid, Π = map(jnp.array, (z_grid, Π))\n",
        "    return Household(β=β, δ=δ, a_grid=a_grid, z_grid=z_grid, Π=Π)"
      ],
      "metadata": {
        "id": "-a2RC8Gc5ZQd"
      },
      "execution_count": 5,
      "outputs": []
    },
    {
      "cell_type": "markdown",
      "source": [
        "We assume log utility, i.e.,"
      ],
      "metadata": {
        "id": "sCUzwE5F5oo4"
      }
    },
    {
      "cell_type": "code",
      "source": [
        "u = jnp.log"
      ],
      "metadata": {
        "id": "gpk3-7_R5stI"
      },
      "execution_count": 6,
      "outputs": []
    },
    {
      "cell_type": "markdown",
      "source": [
        "Here’s a tuple that stores the wage rate and interest rate, as well as a function that creates a price namedtuple with default values."
      ],
      "metadata": {
        "id": "tf7CPC-L5XCD"
      }
    },
    {
      "cell_type": "code",
      "source": [
        "Prices = namedtuple('Prices', ('r', 'w'))\n",
        "\n",
        "def create_prices(r=0.01,   # Interest rate\n",
        "                  w=1.0):   # Wages\n",
        "    return Prices(r=r, w=w)"
      ],
      "metadata": {
        "id": "j3Ldnd_X5WAD"
      },
      "execution_count": 7,
      "outputs": []
    },
    {
      "cell_type": "markdown",
      "source": [
        "### Compute Continuation Value Function"
      ],
      "metadata": {
        "id": "EOIZe5o555wj"
      }
    },
    {
      "cell_type": "markdown",
      "source": [
        "In this section, we compute the continuation value function.\n",
        "\n",
        "\n",
        "We set the Bellman aggregator for the continuation value problem, which is as follows\n",
        "\n",
        "$$\n",
        "B(a,z,a') = u(\\underbrace{wz+(1+r)a-a'}_{\\text{consumption}}) + \\delta \\sum_{z'}v(a',z')\\Pi(z,z')\n",
        "$$\n",
        "for all $(a,z,a')$.\n",
        "\n",
        "Note that here we use the long-run discount factor $\\delta$ to find the continuation value function.\n",
        "\n",
        "\n",
        "Moreover, since the optimal continuation policy is a stationary policy, here we use the classical DP methods to find the optimal continuation policy.\n",
        "\n"
      ],
      "metadata": {
        "id": "C5cLkdJW5-H6"
      }
    },
    {
      "cell_type": "code",
      "source": [
        "@jax.jit\n",
        "def B(v, household, prices):\n",
        "    # Unpack\n",
        "    β, δ, a_grid, z_grid, Π = household\n",
        "    a_size, z_size = len(a_grid), len(z_grid)\n",
        "    r, w = prices\n",
        "\n",
        "    # Compute current consumption as array c[i, j, ip]\n",
        "    a  = jnp.reshape(a_grid, (a_size, 1, 1))    # a[i]   ->  a[i, j, ip]\n",
        "    z  = jnp.reshape(z_grid, (1, z_size, 1))    # z[j]   ->  z[i, j, ip]\n",
        "    ap = jnp.reshape(a_grid, (1, 1, a_size))    # ap[ip] -> ap[i, j, ip]\n",
        "    c = w * z + (1 + r) * a - ap\n",
        "\n",
        "    # Calculate continuation rewards at all combinations of (a, z, ap)\n",
        "    v = jnp.reshape(v, (1, 1, a_size, z_size))  # v[ip, jp] -> v[i, j, ip, jp]\n",
        "    Π = jnp.reshape(Π, (1, z_size, 1, z_size))  # Π[j, jp]  -> Π[i, j, ip, jp]\n",
        "    EV = jnp.sum(v * Π, axis=-1)                 # sum over last index jp\n",
        "\n",
        "    # Compute the right-hand side of the Bellman equation\n",
        "    return jnp.where(c > 0, u(c) + δ * EV, -jnp.inf)"
      ],
      "metadata": {
        "id": "NBnqf7qw63d1"
      },
      "execution_count": 8,
      "outputs": []
    },
    {
      "cell_type": "markdown",
      "source": [
        "The next function computes the greedy policies."
      ],
      "metadata": {
        "id": "8QqnOO3z7CP5"
      }
    },
    {
      "cell_type": "code",
      "source": [
        "@jax.jit\n",
        "def get_greedy(v, household, prices):\n",
        "    \"\"\"\n",
        "    Computes a v-greedy policy σ, returned as a set of indices.  If\n",
        "    σ[i, j] equals ip, then a_grid[ip] is the maximizer at i, j.\n",
        "\n",
        "    \"\"\"\n",
        "    return jnp.argmax(B(v, household, prices), axis=-1) # argmax over ap"
      ],
      "metadata": {
        "id": "l2YIytAR6__3"
      },
      "execution_count": 9,
      "outputs": []
    },
    {
      "cell_type": "markdown",
      "source": [
        "The following function computes the arrary $r_\\sigma$ which gives current rewards given stationary policy $\\sigma$.\n",
        "\n"
      ],
      "metadata": {
        "id": "aFf1kglF7IWA"
      }
    },
    {
      "cell_type": "code",
      "source": [
        "@jax.jit\n",
        "def compute_r_σ(σ, household, prices):\n",
        "    \"\"\"\n",
        "    Compute current rewards at each i, j under policy σ.  In particular,\n",
        "\n",
        "        r_σ[i, j] = u((1 + r)a[i] + wz[j] - a'[ip])\n",
        "\n",
        "    when ip = σ[i, j].\n",
        "\n",
        "    \"\"\"\n",
        "    # Unpack\n",
        "    β, δ, a_grid, z_grid, Π = household\n",
        "    a_size, z_size = len(a_grid), len(z_grid)\n",
        "    r, w = prices\n",
        "\n",
        "    # Compute r_σ[i, j]\n",
        "    a = jnp.reshape(a_grid, (a_size, 1))\n",
        "    z = jnp.reshape(z_grid, (1, z_size))\n",
        "    ap = a_grid[σ]\n",
        "    c = (1 + r) * a + w * z - ap\n",
        "    r_σ = u(c)\n",
        "\n",
        "    return r_σ"
      ],
      "metadata": {
        "id": "Dnl0S9S37oTl"
      },
      "execution_count": 10,
      "outputs": []
    },
    {
      "cell_type": "markdown",
      "source": [
        "The continuation $\\sigma$-value function $v_\\sigma$ is defined as\n",
        "\n",
        "$$\n",
        "v_\\sigma  = (I-\\delta P_\\sigma)^{-1} r_\\sigma\n",
        "$$\n",
        "\n",
        "To compute this vector, we set up the linear map $v\\mapsto R_\\sigma v$ where $R_\\sigma:= I-\\delta P_\\sigma$.\n",
        "\n",
        "This map can be expressed as\n",
        "\n",
        "$$\n",
        "(R_\\sigma v)(a,z) = v(a,z) -\\delta \\sum_{z'} v(\\sigma(a,z),z')\\Pi(z,z')\n",
        "$$"
      ],
      "metadata": {
        "id": "2lqgp5cA7sdP"
      }
    },
    {
      "cell_type": "code",
      "source": [
        "@jax.jit\n",
        "def R_σ(v, σ, household):\n",
        "    # Unpack\n",
        "    β, δ, a_grid, z_grid, Π = household\n",
        "    a_size, z_size = len(a_grid), len(z_grid)\n",
        "\n",
        "    # Set up the array v[σ[i, j], jp]\n",
        "    zp_idx = jnp.arange(z_size)\n",
        "    zp_idx = jnp.reshape(zp_idx, (1, 1, z_size))\n",
        "    σ = jnp.reshape(σ, (a_size, z_size, 1))\n",
        "    V = v[σ, zp_idx]\n",
        "\n",
        "    # Expand Π[j, jp] to Π[i, j, jp]\n",
        "    Π = jnp.reshape(Π, (1, z_size, z_size))\n",
        "\n",
        "    # Compute and return v[i, j] - δ Σ_jp v[σ[i, j], jp] * Π[j, jp]\n",
        "    return v - δ * jnp.sum(V * Π, axis=-1)"
      ],
      "metadata": {
        "id": "798w6_vT8jiM"
      },
      "execution_count": 11,
      "outputs": []
    },
    {
      "cell_type": "markdown",
      "source": [
        "The next function computes the continuation value of a given policy."
      ],
      "metadata": {
        "id": "hh9hLsdm8sIv"
      }
    },
    {
      "cell_type": "code",
      "source": [
        "@jax.jit\n",
        "def get_value(σ, household, prices):\n",
        "    \"\"\"\n",
        "    Get the continuation value of policy σ by computing\n",
        "\n",
        "        v_σ = R_σ^{-1} r_σ\n",
        "\n",
        "    \"\"\"\n",
        "    r_σ = compute_r_σ(σ, household, prices)\n",
        "    # Reduce R_σ to a function in v\n",
        "    _R_σ = lambda v: R_σ(v, σ, household)\n",
        "    # Compute v_σ = R_σ^{-1} r_σ using an iterative routing.\n",
        "    return jax.scipy.sparse.linalg.bicgstab(_R_σ, r_σ)[0]"
      ],
      "metadata": {
        "id": "xEhejCvR8x82"
      },
      "execution_count": 12,
      "outputs": []
    },
    {
      "cell_type": "markdown",
      "source": [
        "Here is the Howard Policy Iteration."
      ],
      "metadata": {
        "id": "HjPMZFVs85Up"
      }
    },
    {
      "cell_type": "code",
      "source": [
        "def howard_policy_iteration(household, prices,\n",
        "                            tol=1e-4, max_iter=10_000, verbose=False):\n",
        "    \"\"\"\n",
        "    Howard policy iteration routine.\n",
        "\n",
        "    \"\"\"\n",
        "    β, δ, a_grid, z_grid, Π = household\n",
        "    a_size, z_size = len(a_grid), len(z_grid)\n",
        "    σ = jnp.zeros((a_size, z_size), dtype=int)\n",
        "\n",
        "    v_σ = get_value(σ, household, prices)\n",
        "    i = 0\n",
        "    error = tol + 1\n",
        "    while error > tol and i < max_iter:\n",
        "        σ_new = get_greedy(v_σ, household, prices)\n",
        "        v_σ_new = get_value(σ_new, household, prices)\n",
        "        error = jnp.max(jnp.abs(v_σ_new - v_σ))\n",
        "        σ = σ_new\n",
        "        v_σ = v_σ_new\n",
        "        i = i + 1\n",
        "        if verbose:\n",
        "            print(f\"Concluded loop {i} with error {error}.\")\n",
        "    return σ, v_σ"
      ],
      "metadata": {
        "id": "_Sg94Yuj82wp"
      },
      "execution_count": 13,
      "outputs": []
    },
    {
      "cell_type": "markdown",
      "source": [
        "### Compute the Lifetime Value Function.\n",
        "\n",
        "Compute the lifetime value function is by solving a two-period DP problem. The continuation value is the continuation value function $v_c$ obtained from the HPI.\n",
        "\n",
        "\n",
        "The Bellman aggregator for this part of the problem is shown below:\n",
        "\n",
        "$$\n",
        "B_0(a,z,a') = u(\\underbrace{wz+(1+r)a-a'}_{\\text{consumption}}) + \\beta\\delta \\sum_{z'}v_c(a',z')\\Pi(z,z')\n",
        "$$\n",
        "for all $(a,z,a')$.\n",
        "\n",
        "We can obtain the short-run optimal policy by finding the maximum for each $(a,z)$."
      ],
      "metadata": {
        "id": "dlSJ2yGt9BbB"
      }
    },
    {
      "cell_type": "markdown",
      "source": [
        "Here we have for $B_0$"
      ],
      "metadata": {
        "id": "LpFi--JaMRa6"
      }
    },
    {
      "cell_type": "code",
      "source": [
        "@jax.jit\n",
        "def B_0(v, household, prices):\n",
        "    # Unpack\n",
        "    β, δ, a_grid, z_grid, Π = household\n",
        "    a_size, z_size = len(a_grid), len(z_grid)\n",
        "    r, w = prices\n",
        "\n",
        "    # Compute current consumption as array c[i, j, ip]\n",
        "    a  = jnp.reshape(a_grid, (a_size, 1, 1))    # a[i]   ->  a[i, j, ip]\n",
        "    z  = jnp.reshape(z_grid, (1, z_size, 1))    # z[j]   ->  z[i, j, ip]\n",
        "    ap = jnp.reshape(a_grid, (1, 1, a_size))    # ap[ip] -> ap[i, j, ip]\n",
        "    c = w * z + (1 + r) * a - ap\n",
        "\n",
        "    # Calculate continuation rewards at all combinations of (a, z, ap)\n",
        "    v = jnp.reshape(v, (1, 1, a_size, z_size))  # v[ip, jp] -> v[i, j, ip, jp]\n",
        "    Π = jnp.reshape(Π, (1, z_size, 1, z_size))  # Π[j, jp]  -> Π[i, j, ip, jp]\n",
        "    EV = jnp.sum(v * Π, axis=-1)                 # sum over last index jp\n",
        "\n",
        "    # Compute the right-hand side of the Bellman equation\n",
        "    return jnp.where(c > 0, u(c) + β * δ * EV, -jnp.inf)"
      ],
      "metadata": {
        "id": "lIHuvcdnMOFC"
      },
      "execution_count": 14,
      "outputs": []
    },
    {
      "cell_type": "markdown",
      "source": [
        "We also need new\n",
        "\n",
        "\n",
        "\n",
        "*   `get_greedy` function.\n",
        "*   `R_σ` function\n",
        "-   `get_value` function\n",
        "\n",
        "by change  δ to β\n",
        "\n",
        "\n"
      ],
      "metadata": {
        "id": "p1faHcEOYXCN"
      }
    },
    {
      "cell_type": "code",
      "source": [
        "@jax.jit\n",
        "def get_greedy_0(v, household, prices):\n",
        "    \"\"\"\n",
        "    Computes a v-greedy policy σ, returned as a set of indices.  If\n",
        "    σ[i, j] equals ip, then a_grid[ip] is the maximizer at i, j.\n",
        "\n",
        "    \"\"\"\n",
        "    return jnp.argmax(B_0(v, household, prices), axis=-1)\n",
        "\n",
        "\n",
        "@jax.jit\n",
        "def R_σ_0(v, σ, household):\n",
        "    # Unpack\n",
        "    β, δ, a_grid, z_grid, Π = household\n",
        "    a_size, z_size = len(a_grid), len(z_grid)\n",
        "\n",
        "    # Set up the array v[σ[i, j], jp]\n",
        "    zp_idx = jnp.arange(z_size)\n",
        "    zp_idx = jnp.reshape(zp_idx, (1, 1, z_size))\n",
        "    σ = jnp.reshape(σ, (a_size, z_size, 1))\n",
        "    V = v[σ, zp_idx]\n",
        "\n",
        "    # Expand Π[j, jp] to Π[i, j, jp]\n",
        "    Π = jnp.reshape(Π, (1, z_size, z_size))\n",
        "\n",
        "    # Compute and return v[i, j] - δ Σ_jp v[σ[i, j], jp] * Π[j, jp]\n",
        "    return v - β * δ * jnp.sum(V * Π, axis=-1)\n",
        "\n",
        "@jax.jit\n",
        "def get_value_0(σ, household, prices):\n",
        "    \"\"\"\n",
        "    Get the continuation value of policy σ by computing\n",
        "\n",
        "        v_σ = R_σ^{-1} r_σ\n",
        "\n",
        "    \"\"\"\n",
        "    r_σ = compute_r_σ(σ, household, prices)\n",
        "    # Reduce R_σ to a function in v\n",
        "    _R_σ_0 = lambda v: R_σ_0(v, σ, household)\n",
        "    # Compute v_σ = R_σ^{-1} r_σ using an iterative routing.\n",
        "    return jax.scipy.sparse.linalg.bicgstab(_R_σ_0, r_σ)[0]"
      ],
      "metadata": {
        "id": "LLv0KZFYYcAc"
      },
      "execution_count": 15,
      "outputs": []
    },
    {
      "cell_type": "markdown",
      "source": [
        "Then, we can find the $v_c$-greedy policy use the previous `get_greedy()` function.\n",
        "\n",
        "This gives the $v_c$-greedy policy over the short-run policy operators.\n",
        "\n",
        "And we then can apply the `get_value()` function to get the lifetime value function.\n",
        "\n",
        "Hence, this allows us to get the PMBA lifetime value function and optimal policy pair.\n",
        "\n",
        "The following function combines the computation for lifetime value function into one function."
      ],
      "metadata": {
        "id": "ZXJ2EALjMpsC"
      }
    },
    {
      "cell_type": "code",
      "source": [
        "def compute_lifetime(household, prices):\n",
        "  # Unpack\n",
        "    β, δ, a_grid, z_grid, Π = household\n",
        "    a_size, z_size = len(a_grid), len(z_grid)\n",
        "    r, w = prices\n",
        "\n",
        "  # get continuation value function and optimal continuation policy using HPI\n",
        "    σ_c, v_c = howard_policy_iteration(household, prices)\n",
        "\n",
        "  # Compute the v_c-greedy policy using get_greedy_0\n",
        "    σ_star = get_greedy_0(v_c, household, prices)\n",
        "\n",
        "  # Compute the lifetime value function\n",
        "    v_star = get_value_0(σ_star, household, prices)\n",
        "    return σ_star, v_star\n"
      ],
      "metadata": {
        "id": "pTVWNDQ7Mtqh"
      },
      "execution_count": 16,
      "outputs": []
    },
    {
      "cell_type": "code",
      "source": [],
      "metadata": {
        "id": "bUhItYzhNrSS"
      },
      "execution_count": 16,
      "outputs": []
    },
    {
      "cell_type": "markdown",
      "source": [
        "## Firm Dynamics"
      ],
      "metadata": {
        "id": "SXkAvWRmv_8M"
      }
    },
    {
      "cell_type": "markdown",
      "source": [
        "Consider the representative firm with\n",
        "\n",
        "$$\n",
        "Y = AK^{\\alpha} N^{1-\\alpha}\n",
        "$$\n",
        "\n",
        "The firm's problem is to solve the following static optimization problem:\n",
        "\n",
        "$$\n",
        "\\max_{K,N} \\{AK^{\\alpha} N^{1-\\alpha} - (r+\\delta) K - wN\\}\n",
        "$$\n",
        "\n",
        "i.e., the firm chooses capital and labor demand to maximize total profit. This give the following first-order conditions."
      ],
      "metadata": {
        "id": "mzaAfWG9wSQE"
      }
    },
    {
      "cell_type": "markdown",
      "source": [
        "The first-order condition with respect to capital demanded:\n",
        "\n",
        "\\begin{equation}\n",
        "r = A\\alpha\\left(\\frac{N}{K}\\right)^{1-\\alpha}-\\delta\n",
        "\\end{equation}\n",
        "\n",
        "\n",
        "\n",
        "The first-order condition with respect to labor demanded:\n",
        "\n",
        "$$\n",
        "w = A(1-\\alpha) \\left(\\frac{K}{N}\\right)^{\\alpha}\n",
        "$$"
      ],
      "metadata": {
        "id": "W3kVuflSxtf9"
      }
    },
    {
      "cell_type": "markdown",
      "source": [
        "where\n",
        "\n",
        "\n",
        "\n",
        "*   $Y$ is the total output\n",
        "*   $K$ is the total capital demanded by the firm\n",
        "-   $N$ is the total labor demanded by the firm\n",
        "-   $\\alpha$ is the capital share, a parameter with $\\alpha\\in(0,1)$\n",
        "\n",
        "-   $\\delta$ is the depreciation rate, a parameter with $\\delta\\in(0,1)$\n",
        "\n",
        "-   $r$ is the interest rate\n",
        "-   $w$ is the wage price of labor\n",
        "\n"
      ],
      "metadata": {
        "id": "VgnZxiu7xn5d"
      }
    },
    {
      "cell_type": "markdown",
      "source": [
        "Now we store the parameters in the following namedtuple:"
      ],
      "metadata": {
        "id": "i3Fpc4BGxpCk"
      }
    },
    {
      "cell_type": "code",
      "source": [
        "Firm = namedtuple('Firm', ('A', 'N', 'α', 'δ'))\n",
        "\n",
        "def create_firm(A=1.0,\n",
        "                N=1.0,\n",
        "                α=0.33,\n",
        "                δ=0.05):\n",
        "    \"\"\"\n",
        "    Create a namedtuple that stores firm data.\n",
        "\n",
        "    \"\"\"\n",
        "    return Firm(A=A, N=N, α=α, δ=δ)"
      ],
      "metadata": {
        "id": "E0ONfLHGE_17"
      },
      "execution_count": 17,
      "outputs": []
    },
    {
      "cell_type": "markdown",
      "source": [
        "Here is the interest rate associated with a given demand for capital"
      ],
      "metadata": {
        "id": "ILByMbxxy0t2"
      }
    },
    {
      "cell_type": "code",
      "source": [
        "def r_given_k(K, firm):\n",
        "    \"\"\"\n",
        "    Inverse demand curve for capital.  The interest rate associated with a\n",
        "    given demand for capital K.\n",
        "    \"\"\"\n",
        "    A, N, α, δ = firm\n",
        "    return A * α * (N / K)**(1 - α) - δ"
      ],
      "metadata": {
        "id": "Rkig-3Tny90d"
      },
      "execution_count": 18,
      "outputs": []
    },
    {
      "cell_type": "markdown",
      "source": [
        "Here is the first-order condition for wages associate with a given interest rate"
      ],
      "metadata": {
        "id": "yFoDDam8y_x1"
      }
    },
    {
      "cell_type": "code",
      "source": [
        "def r_to_w(r, firm):\n",
        "    \"\"\"\n",
        "    Equilibrium wages associated with a given interest rate r.\n",
        "    \"\"\"\n",
        "    A, N, α, δ = firm\n",
        "    return A * (1 - α) * (A * α / (r + δ))**(α / (1 - α))"
      ],
      "metadata": {
        "id": "rok7QA1xzJ19"
      },
      "execution_count": 19,
      "outputs": []
    },
    {
      "cell_type": "markdown",
      "source": [
        "## Solve the Equilibrium"
      ],
      "metadata": {
        "id": "i1_r7N8ozMGW"
      }
    },
    {
      "cell_type": "markdown",
      "source": [
        "Under PBMA, there are two equilibria, one for the short-run policy and one for the continuation policy.\n",
        "\n",
        "When the agent finds out their type at the beginning of each period -- whether use $\\delta$ or $\\beta\\delta$ as their discount factor -- this leads to different types of equilibium level of capital.\n",
        "\n",
        "One justification for this two equilibria is that both are rational expectation equilibrium because all the changes in the discount factors is considered as unexpected, or behavioral shocks.\n",
        "\n",
        "\n",
        "In the equilibrium, the capital supply equals the capital demand.\n",
        "\n",
        "First, we compute the stationary distribution of a given policy and then compute the capital supply for the short-run policy, i.e., using the short-run policy."
      ],
      "metadata": {
        "id": "nn99AuNwU0eE"
      }
    },
    {
      "cell_type": "code",
      "source": [
        "@jax.jit\n",
        "def compute_asset_stationary(σ, household):\n",
        "    # Unpack\n",
        "    β, δ, a_grid, z_grid, Π = household\n",
        "    a_size, z_size = len(a_grid), len(z_grid)\n",
        "\n",
        "    # Construct P_σ as an array of the form P_σ[i, j, ip, jp]\n",
        "    ap_idx = jnp.arange(a_size)\n",
        "    ap_idx = jnp.reshape(ap_idx, (1, 1, a_size, 1))\n",
        "    σ = jnp.reshape(σ, (a_size, z_size, 1, 1))\n",
        "    A = jnp.where(σ == ap_idx, 1, 0)\n",
        "    Π = jnp.reshape(Π, (1, z_size, 1, z_size))\n",
        "    P_σ = A * Π\n",
        "\n",
        "    # Reshape P_σ into a matrix\n",
        "    n = a_size * z_size\n",
        "    P_σ = jnp.reshape(P_σ, (n, n))\n",
        "\n",
        "    # Get stationary distribution and reshape back onto [i, j] grid\n",
        "    ψ = compute_stationary(P_σ)\n",
        "    ψ = jnp.reshape(ψ, (a_size, z_size))\n",
        "\n",
        "    # Sum along the rows to get the marginal distribution of assets\n",
        "    ψ_a = jnp.sum(ψ, axis=1)\n",
        "    return ψ_a"
      ],
      "metadata": {
        "id": "BRGmlizYVYbi"
      },
      "execution_count": 20,
      "outputs": []
    },
    {
      "cell_type": "markdown",
      "source": [
        "Then, the following function computes aggregate capital supply."
      ],
      "metadata": {
        "id": "UWKf5SVVVf-B"
      }
    },
    {
      "cell_type": "code",
      "source": [
        "def capital_supply(σ, household):\n",
        "    \"\"\"\n",
        "    Induced level of capital stock under the policy, taking r and w as given.\n",
        "\n",
        "    \"\"\"\n",
        "    β, δ, a_grid, z_grid, Π = household\n",
        "    ψ_a = compute_asset_stationary(σ, household)\n",
        "    return float(jnp.sum(ψ_a * a_grid))"
      ],
      "metadata": {
        "id": "LbOJgsEIVrOb"
      },
      "execution_count": 21,
      "outputs": []
    },
    {
      "cell_type": "markdown",
      "source": [
        "The procedure to compute a stationary rational expectation equilibrium is shown below:\n",
        "\n",
        "\n",
        "\n",
        "\n",
        "1.   Set $n=0$, start with inital guess $K_0$ for aggregate capital\n",
        "2.   Determine prices, $r$ and $w$, from the firm decision problem, given $K_n$\n",
        "3.   Compute the optimal saving policy of the household given these prices\n",
        "4.   Compute aggregate capital $K_{n+1}$ as the mean of steady state capital given this saving policy\n",
        "5.   If $K_{n+1}\\approx K_n$, stop, otherwise back to step 2.\n",
        "\n",
        "\n",
        "We can write the sequence of operations in step 2-4 as\n",
        "\n",
        "$$\n",
        "K_{n+1} = G(K_n)\n",
        "$$\n",
        "\n",
        "In other words, our problem is to find the fixed-point of the one-dimensional map $G$."
      ],
      "metadata": {
        "id": "v3-5z9GgVwf7"
      }
    },
    {
      "cell_type": "code",
      "source": [
        "def G_short(K, firm, household):\n",
        "    # Get prices r, w associated with K\n",
        "    r = r_given_k(K, firm)\n",
        "    w = r_to_w(r, firm)\n",
        "    # Generate a household object with these prices, compute\n",
        "    # aggregate capital.\n",
        "    prices = create_prices(r=r, w=w)\n",
        "    σ_star, v_star = compute_lifetime(household, prices)\n",
        "\n",
        "    return capital_supply(σ_star, household)"
      ],
      "metadata": {
        "id": "0AdsOM-vVvd7"
      },
      "execution_count": 22,
      "outputs": []
    },
    {
      "cell_type": "markdown",
      "source": [
        "Now we compute the equilibrium using the above algorithm. Moreover, we use damped iteration scheme of the following form\n",
        "\n",
        "$$\n",
        "K_{n+1} = \\gamma K_n + (1-\\gamma) G(K_n)\n",
        "$$\n",
        "\n",
        "The next function is for computing the equilibrium."
      ],
      "metadata": {
        "id": "3HTnVQrCaRBN"
      }
    },
    {
      "cell_type": "code",
      "source": [
        "def compute_equilibrium_short(firm, household,\n",
        "                        K0=6, γ=0.99, max_iter=1_000, tol=1e-4,\n",
        "                        print_skip=10, verbose=False):\n",
        "    n = 0\n",
        "    K = K0\n",
        "    error = tol + 1\n",
        "    while error > tol and n < max_iter:\n",
        "        new_K = γ * K + (1 - γ) * G_short(K, firm, household)\n",
        "        error = abs(new_K - K)\n",
        "        K = new_K\n",
        "        n += 1\n",
        "        if verbose and n % print_skip == 0:\n",
        "            print(f\"At iteration {n} with error {error}\")\n",
        "    return K, n"
      ],
      "metadata": {
        "id": "wE1zIomzayPY"
      },
      "execution_count": 23,
      "outputs": []
    },
    {
      "cell_type": "markdown",
      "source": [
        "Now let's compute the equilibrium associated with short-run policy."
      ],
      "metadata": {
        "id": "y42rOXXPbDdN"
      }
    },
    {
      "cell_type": "code",
      "source": [
        "firm = create_firm()\n",
        "household = create_household()\n",
        "print(\"\\nComputing equilibrium capital stock\")\n",
        "start = time.time()\n",
        "K_star, n = compute_equilibrium_short(firm, household, K0=6.0, verbose=True)\n",
        "elapsed = time.time() - start\n",
        "print(f\"Computed equilibrium with short-run policy {K_star:.5} in {n} iterations and {elapsed} seconds\")"
      ],
      "metadata": {
        "colab": {
          "base_uri": "https://localhost:8080/"
        },
        "id": "AHOSLl8xbGdC",
        "outputId": "8b485609-d968-41ff-d2c9-c9ae86056e91"
      },
      "execution_count": 24,
      "outputs": [
        {
          "output_type": "stream",
          "name": "stdout",
          "text": [
            "\n",
            "Computing equilibrium capital stock\n",
            "At iteration 10 with error 0.04264585937555054\n",
            "At iteration 20 with error 0.035350521505255195\n",
            "At iteration 30 with error 0.02849626323452714\n",
            "At iteration 40 with error 0.0221610876641245\n",
            "At iteration 50 with error 0.016997040719201273\n",
            "At iteration 60 with error 0.012664700910607785\n",
            "At iteration 70 with error 0.009499649295577228\n",
            "At iteration 80 with error 0.0069715333155881964\n",
            "At iteration 90 with error 0.005015429049663567\n",
            "At iteration 100 with error 0.0033146145265896543\n",
            "At iteration 110 with error 0.0023908259326983483\n",
            "At iteration 120 with error 0.001734370411104802\n",
            "At iteration 130 with error 0.001030451308086544\n",
            "At iteration 140 with error 0.0007433637839948659\n",
            "At iteration 150 with error 0.0005318467715782482\n",
            "At iteration 160 with error 0.0001808090574519916\n",
            "At iteration 170 with error 0.0001635204705587867\n",
            "At iteration 180 with error 0.00012761969758612324\n",
            "At iteration 190 with error 0.00011541696691486081\n",
            "At iteration 200 with error 0.00010438103602972149\n",
            "Computed equilibrium 3.8877 in 205 iterations and 62.51187586784363 seconds\n"
          ]
        }
      ]
    },
    {
      "cell_type": "markdown",
      "source": [
        "### Equilibrium associated with the continuation policy"
      ],
      "metadata": {
        "id": "Gtsi6r5ELdr6"
      }
    },
    {
      "cell_type": "markdown",
      "source": [
        "We change\n",
        "\n",
        "- `G_short` to `G_continuation`\n",
        "\n",
        "- `compute_equilibrium_short` to `compute_equilibrium_continuation`"
      ],
      "metadata": {
        "id": "X73CYW-qLi6P"
      }
    },
    {
      "cell_type": "markdown",
      "source": [
        "First, we get the  `G_continuation`"
      ],
      "metadata": {
        "id": "gXLKl4uSL8oI"
      }
    },
    {
      "cell_type": "code",
      "source": [
        "def G_continuation(K, firm, household):\n",
        "    # Get prices r, w associated with K\n",
        "    r = r_given_k(K, firm)\n",
        "    w = r_to_w(r, firm)\n",
        "    # Generate a household object with these prices, compute\n",
        "    # aggregate capital.\n",
        "    prices = create_prices(r=r, w=w)\n",
        "\n",
        "    # this gives us the continuation policy\n",
        "    σ_c, v_c = howard_policy_iteration(household, prices)\n",
        "\n",
        "    return capital_supply(σ_c, household)"
      ],
      "metadata": {
        "id": "0wyhJh_bMHXd"
      },
      "execution_count": 24,
      "outputs": []
    },
    {
      "cell_type": "markdown",
      "source": [
        "Then, we get  `compute_equilibrium_continuation`"
      ],
      "metadata": {
        "id": "afODKuIUMlkE"
      }
    },
    {
      "cell_type": "code",
      "source": [
        "def compute_equilibrium_continuation(firm, household,\n",
        "                        K0=6, γ=0.99, max_iter=1_000, tol=1e-4,\n",
        "                        print_skip=10, verbose=False):\n",
        "    n = 0\n",
        "    K = K0\n",
        "    error = tol + 1\n",
        "    while error > tol and n < max_iter:\n",
        "        new_K = γ * K + (1 - γ) * G_continuation(K, firm, household)\n",
        "        error = abs(new_K - K)\n",
        "        K = new_K\n",
        "        n += 1\n",
        "        if verbose and n % print_skip == 0:\n",
        "            print(f\"At iteration {n} with error {error}\")\n",
        "    return K, n"
      ],
      "metadata": {
        "id": "Ialzaz1wMlG1"
      },
      "execution_count": 25,
      "outputs": []
    },
    {
      "cell_type": "markdown",
      "source": [
        "## Stationary Asset Distribution at equilibrium."
      ],
      "metadata": {
        "id": "4Qr-0_gjgSWk"
      }
    },
    {
      "cell_type": "markdown",
      "source": [
        "### For the short-run policy equilibrium"
      ],
      "metadata": {
        "id": "xcBF6K_KM0P8"
      }
    },
    {
      "cell_type": "markdown",
      "source": [
        "For the short-run policy, we use the following function to plot the stationary asset distribution.  "
      ],
      "metadata": {
        "id": "MeFWmH4YgaCx"
      }
    },
    {
      "cell_type": "code",
      "source": [
        "def plot_asset_distribution_short(firm, household):\n",
        "\n",
        "  # First, get the short-run policy Equilibrium (SRPE) Capital, interest rate, wage\n",
        "  K_star, n = compute_equilibrium_short(firm, household)\n",
        "  r = r_given_k(K_star, firm)\n",
        "  w = r_to_w(r, firm)\n",
        "\n",
        "  # Compute the SRPE prices\n",
        "  prices = create_prices(r=r, w=w)\n",
        "\n",
        "  # Compute lifetime value function and optimal policy\n",
        "  σ_star, v_star = compute_lifetime(household, prices)\n",
        "\n",
        "  # asset distribution at SRPE\n",
        "  ψ = compute_asset_stationary(σ_star, household)\n",
        "\n",
        "  # plot the stationary asset distribution at  SRPE\n",
        "  fig, ax = plt.subplots()\n",
        "  ax.bar(household.a_grid, ψ)\n",
        "  ax.set_xlabel(\"asset level\")\n",
        "  ax.set_ylabel(\"Probability Mass\")\n",
        "  ax.set_title(\"stationary asset distribution at SRPE\")\n",
        "  plt.show()"
      ],
      "metadata": {
        "id": "KC3PzGOfw9sf"
      },
      "execution_count": 26,
      "outputs": []
    },
    {
      "cell_type": "code",
      "source": [
        "plot_asset_distribution_short(firm, household)"
      ],
      "metadata": {
        "colab": {
          "base_uri": "https://localhost:8080/",
          "height": 472
        },
        "id": "UDfzb4U5zUiB",
        "outputId": "bc6c0bbe-a62e-44a3-e30d-c89a41513f15"
      },
      "execution_count": 26,
      "outputs": [
        {
          "output_type": "display_data",
          "data": {
            "text/plain": [
              "<Figure size 640x480 with 1 Axes>"
            ],
            "image/png": "[encoded data removed]"
          },
          "metadata": {}
        }
      ]
    },
    {
      "cell_type": "markdown",
      "source": [
        "### For the continuation policy equilibrium"
      ],
      "metadata": {
        "id": "MCQIZk5VyRlI"
      }
    },
    {
      "cell_type": "markdown",
      "source": [
        "Similarly, we modified the above function to plot the continuation policy equilibrium (CPE)"
      ],
      "metadata": {
        "id": "SNHNjcRUNBAk"
      }
    },
    {
      "cell_type": "code",
      "source": [
        "def plot_asset_distribution_continuation(firm, household):\n",
        "\n",
        "  # First, get the CPE Capital, interest rate, wage\n",
        "  K_star, n = compute_equilibrium_continuation(firm, household)\n",
        "  r = r_given_k(K_star, firm)\n",
        "  w = r_to_w(r, firm)\n",
        "\n",
        "  # Compute the CPE prices\n",
        "  prices = create_prices(r=r, w=w)\n",
        "\n",
        "  # Compute lifetime value function and optimal policy\n",
        "  σ_c, v_c = howard_policy_iteration(household, prices)\n",
        "\n",
        "  # asset distribution at CPE\n",
        "  ψ = compute_asset_stationary(σ_c, household)\n",
        "\n",
        "  # plot the stationary asset distribution at  CPE\n",
        "  fig, ax = plt.subplots()\n",
        "  ax.bar(household.a_grid, ψ)\n",
        "  ax.set_xlabel(\"asset level\")\n",
        "  ax.set_ylabel(\"Probability Mass\")\n",
        "  ax.set_title(\"stationary asset distribution at CPE\")\n",
        "  plt.show()"
      ],
      "metadata": {
        "id": "eY9izhEWN2R4"
      },
      "execution_count": 27,
      "outputs": []
    },
    {
      "cell_type": "markdown",
      "source": [
        "## What happens with the Mixed Action?"
      ],
      "metadata": {
        "id": "xA7ir9-xONWX"
      }
    },
    {
      "cell_type": "markdown",
      "source": [
        "The mixed actions represent the behavioral aspect of the agent.\n",
        "\n",
        "- there is an unexpected shock with a probability $\\omega$ that the agent will have discount factor $\\beta\\delta$ instead of $\\delta$ at the beginning of each period.\n",
        "\n",
        "- this probability $\\omega$ represents the parameter of self-control.\n",
        "\n",
        "- With probability $1-\\omega$, agents can control themselves to stay with discount factor $\\delta$."
      ],
      "metadata": {
        "id": "9GUJv1imORlv"
      }
    },
    {
      "cell_type": "markdown",
      "source": [
        "### What happens to the equilibrium?"
      ],
      "metadata": {
        "id": "0WF8iB4CPom3"
      }
    },
    {
      "cell_type": "markdown",
      "source": [
        "There will be two equilibrium.\n",
        "\n",
        "- SRPE is the equilibrium level when agents find that their discount factor is $\\beta\\delta$\n",
        "\n",
        "- CPE is the equilibrium level when agents find that their discount factor is $\\delta$"
      ],
      "metadata": {
        "id": "Olz7S59qPs_7"
      }
    },
    {
      "cell_type": "markdown",
      "source": [
        "### What happens to the stationary asset distribution?"
      ],
      "metadata": {
        "id": "Mbnfj9OqQByQ"
      }
    },
    {
      "cell_type": "markdown",
      "source": [
        "There are two stationary asset distribution corresponding to each equilibrium.\n",
        "\n",
        "Another way to look at stationary distribution is using a weighted average of these two Markov matrices.\n",
        "\n",
        "Denote $P_{short}$ as the Markov matrix for the short-run policy.\n",
        "\n",
        "Denote $P_{continuation}$ as the Markov matrix for the continuation policy.\n",
        "\n",
        "Then, since we know that with probability $\\omega$, we will apply $P_{short}$ and probability $1-\\omega$ to apply $P_{continuation}$, we have\n",
        "\n",
        "$$\n",
        "P_{MA} = \\omega P_{short} + (1-\\omega) P_{continuation}\n",
        "$$\n",
        "\n",
        "Here we find the stationary distribution of $P_{MA}$"
      ],
      "metadata": {
        "id": "_9hvftA0QGc4"
      }
    },
    {
      "cell_type": "markdown",
      "source": [
        "### Stationary distribution for the Mixed Actions"
      ],
      "metadata": {
        "id": "yU8C4FmRSXuf"
      }
    },
    {
      "cell_type": "markdown",
      "source": [
        "First, we use the following function to compute the mixed stationary distribution.\n",
        "\n",
        "ω"
      ],
      "metadata": {
        "id": "XB7NcSNgSdQc"
      }
    },
    {
      "cell_type": "code",
      "source": [
        "@jax.jit\n",
        "def compute_asset_stationary_mixed(σ_s, # short-run policy\n",
        "                                   σ_c, # continuation policy\n",
        "                                   household,\n",
        "                                   ω=0.0 # self-control parameter\n",
        "                                   ):\n",
        "    # Unpack\n",
        "    β, δ, a_grid, z_grid, Π = household\n",
        "    a_size, z_size = len(a_grid), len(z_grid)\n",
        "\n",
        "    # Construct P_σ as an array of the form P_σ[i, j, ip, jp]\n",
        "    ap_idx = jnp.arange(a_size)\n",
        "    ap_idx = jnp.reshape(ap_idx, (1, 1, a_size, 1))\n",
        "\n",
        "    σ_s = jnp.reshape(σ_s, (a_size, z_size, 1, 1))\n",
        "    σ_c = jnp.reshape(σ_c, (a_size, z_size, 1, 1))\n",
        "\n",
        "    A_s = jnp.where(σ_s == ap_idx, 1, 0)\n",
        "    A_c = jnp.where(σ_c == ap_idx, 1, 0)\n",
        "\n",
        "    Π = jnp.reshape(Π, (1, z_size, 1, z_size))\n",
        "\n",
        "    P_σ_s = A_s * Π\n",
        "    P_σ_c = A_c * Π\n",
        "\n",
        "    P_σ = ω * P_σ_s + (1 - ω) * P_σ_c   # Mixed action Markov matrix\n",
        "\n",
        "    # Reshape P_σ into a matrix\n",
        "    n = a_size * z_size\n",
        "    P_σ = jnp.reshape(P_σ, (n, n))\n",
        "\n",
        "    # Get stationary distribution and reshape back onto [i, j] grid\n",
        "    ψ = compute_stationary(P_σ)\n",
        "    ψ = jnp.reshape(ψ, (a_size, z_size))\n",
        "\n",
        "    # Sum along the rows to get the marginal distribution of assets\n",
        "    ψ_a = jnp.sum(ψ, axis=1)\n",
        "    return ψ_a"
      ],
      "metadata": {
        "id": "Yt6zolpfTVbP"
      },
      "execution_count": 34,
      "outputs": []
    },
    {
      "cell_type": "markdown",
      "source": [
        "Now, we use the following function to plot the stationary distribution for the mixed action markov matrix."
      ],
      "metadata": {
        "id": "8UtXkq1GURoy"
      }
    },
    {
      "cell_type": "code",
      "source": [
        "def plot_asset_distribution_mixed(firm, household, ω=0.0):\n",
        "\n",
        "  # First, get the CPE Capital, interest rate, wage\n",
        "  K_continuation, n = compute_equilibrium_continuation(firm, household)\n",
        "  r_continuation = r_given_k(K_continuation, firm)\n",
        "  w_continuation = r_to_w(r_continuation, firm)\n",
        "\n",
        "  # Compute the CPE prices\n",
        "  prices_continuation = create_prices(r=r_continuation, w=w_continuation)\n",
        "\n",
        "  # Compute lifetime value function and optimal policy\n",
        "  σ_c, v_c = howard_policy_iteration(household, prices_continuation)\n",
        "\n",
        "\n",
        "  K_short, n = compute_equilibrium_short(firm, household)\n",
        "  r_short = r_given_k(K_short, firm)\n",
        "  w_short = r_to_w(r_short, firm)\n",
        "\n",
        "  # Compute the SRPE prices\n",
        "  prices_short = create_prices(r=r_short, w=w_short)\n",
        "\n",
        "  # Compute lifetime value function and optimal policy\n",
        "  σ_s, v_s = compute_lifetime(household, prices_short)\n",
        "\n",
        "  # asset distribution with mixed actions\n",
        "  ψ = compute_asset_stationary_mixed(σ_s, σ_c, household, ω)\n",
        "\n",
        "  # plot the stationary asset distribution at  CPE\n",
        "  fig, ax = plt.subplots()\n",
        "  ax.bar(household.a_grid, ψ)\n",
        "  ax.set_xlabel(\"asset level\")\n",
        "  ax.set_ylabel(\"Probability Mass\")\n",
        "  ax.set_title(\"stationary asset distribution with Mixed Actions\")\n",
        "  plt.show()"
      ],
      "metadata": {
        "id": "fFgQzJPWTVYo"
      },
      "execution_count": 38,
      "outputs": []
    },
    {
      "cell_type": "code",
      "source": [
        "firm = create_firm()\n",
        "household = create_household()\n",
        "plot_asset_distribution_mixed(firm, household, ω=0.0)"
      ],
      "metadata": {
        "colab": {
          "base_uri": "https://localhost:8080/",
          "height": 472
        },
        "id": "16sx6TUiXGPd",
        "outputId": "b10cd13d-394b-40a6-eafa-1dff265c54b1"
      },
      "execution_count": 36,
      "outputs": [
        {
          "output_type": "display_data",
          "data": {
            "text/plain": [
              "<Figure size 640x480 with 1 Axes>"
            ],
            "image/png": "[encoded data removed]"
          },
          "metadata": {}
        }
      ]
    },
    {
      "cell_type": "code",
      "source": [
        "plot_asset_distribution_mixed(firm, household, ω=0.1)"
      ],
      "metadata": {
        "colab": {
          "base_uri": "https://localhost:8080/",
          "height": 472
        },
        "id": "s__vBtbnZlju",
        "outputId": "ceb1f131-81bf-42ca-ea3f-af4424b8644f"
      },
      "execution_count": 39,
      "outputs": [
        {
          "output_type": "display_data",
          "data": {
            "text/plain": [
              "<Figure size 640x480 with 1 Axes>"
            ],
            "image/png": "[encoded data removed]"
          },
          "metadata": {}
        }
      ]
    },
    {
      "cell_type": "code",
      "source": [
        "plot_asset_distribution_mixed(firm, household, ω=0.3)"
      ],
      "metadata": {
        "colab": {
          "base_uri": "https://localhost:8080/",
          "height": 472
        },
        "id": "vS5YRJ-5a8Yt",
        "outputId": "14192a3a-bc28-425e-9631-4dd2819133d2"
      },
      "execution_count": 40,
      "outputs": [
        {
          "output_type": "display_data",
          "data": {
            "text/plain": [
              "<Figure size 640x480 with 1 Axes>"
            ],
            "image/png": "[encoded data removed]"
          },
          "metadata": {}
        }
      ]
    },
    {
      "cell_type": "code",
      "source": [
        "plot_asset_distribution_mixed(firm, household, ω=0.5)"
      ],
      "metadata": {
        "colab": {
          "base_uri": "https://localhost:8080/",
          "height": 472
        },
        "id": "BJCg1Rmua4SM",
        "outputId": "4edda57b-4525-411a-8562-2264493c2d00"
      },
      "execution_count": 41,
      "outputs": [
        {
          "output_type": "display_data",
          "data": {
            "text/plain": [
              "<Figure size 640x480 with 1 Axes>"
            ],
            "image/png": "[encoded data removed]"
          },
          "metadata": {}
        }
      ]
    },
    {
      "cell_type": "code",
      "source": [
        "plot_asset_distribution_mixed(firm, household, ω=0.7)"
      ],
      "metadata": {
        "colab": {
          "base_uri": "https://localhost:8080/",
          "height": 472
        },
        "id": "n5Wa6q0Da6G8",
        "outputId": "c1a4337d-a943-4dd5-d68b-0fedfe953f34"
      },
      "execution_count": 42,
      "outputs": [
        {
          "output_type": "display_data",
          "data": {
            "text/plain": [
              "<Figure size 640x480 with 1 Axes>"
            ],
            "image/png": "[encoded data removed]"
          },
          "metadata": {}
        }
      ]
    },
    {
      "cell_type": "code",
      "source": [
        "plot_asset_distribution_mixed(firm, household, ω=0.9)"
      ],
      "metadata": {
        "colab": {
          "base_uri": "https://localhost:8080/",
          "height": 472
        },
        "id": "tchFhYT8a9oV",
        "outputId": "2ec588a8-20d0-428d-e6fe-238a9cac2db0"
      },
      "execution_count": 43,
      "outputs": [
        {
          "output_type": "display_data",
          "data": {
            "text/plain": [
              "<Figure size 640x480 with 1 Axes>"
            ],
            "image/png": "[encoded data removed]"
          },
          "metadata": {}
        }
      ]
    },
    {
      "cell_type": "code",
      "source": [
        "plot_asset_distribution_mixed(firm, household, ω=1)"
      ],
      "metadata": {
        "colab": {
          "base_uri": "https://localhost:8080/",
          "height": 472
        },
        "id": "Icx2kBOla_P9",
        "outputId": "084c1c2e-cd4d-4ca3-94c7-902163e47106"
      },
      "execution_count": 44,
      "outputs": [
        {
          "output_type": "display_data",
          "data": {
            "text/plain": [
              "<Figure size 640x480 with 1 Axes>"
            ],
            "image/png": "[encoded data removed]"
          },
          "metadata": {}
        }
      ]
    }
  ]
}