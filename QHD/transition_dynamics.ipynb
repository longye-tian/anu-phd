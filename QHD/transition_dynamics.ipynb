{
  "nbformat": 4,
  "nbformat_minor": 0,
  "metadata": {
    "colab": {
      "provenance": [],
      "gpuType": "T4",
      "authorship_tag": "ABX9TyOGsWI0kbWtwSIz3KgE8OYK"
    },
    "kernelspec": {
      "name": "python3",
      "display_name": "Python 3"
    },
    "language_info": {
      "name": "python"
    },
    "accelerator": "GPU"
  },
  "cells": [
    {
      "cell_type": "markdown",
      "source": [
        "## Transition Dynamics for PBMA Aiyagari model"
      ],
      "metadata": {
        "id": "P3BcR_gBo9bj"
      }
    },
    {
      "cell_type": "markdown",
      "source": [
        "In this notebook, we discuss the transition dynamics from one equilibrium to the other equilibrium.\n",
        "\n",
        "I use the methodology in Section 4 of [Transition Dynamics in the Aiyagari Model, with an application to Wealth Tax by Toshihiko Mukoyama](https://toshimukoyama.github.io/MyWebsite/Aiyagari.pdf) and apply it to the current setup.\n",
        "\n",
        "Here I outline the algorithm as follows:"
      ],
      "metadata": {
        "id": "sWDQX9RrpEdr"
      }
    },
    {
      "cell_type": "markdown",
      "source": [
        "#### Step 1 Compute the Initial steady state and final steady state\n",
        "\n",
        "We have already accomplished this computation. We obtained\n",
        "\n",
        "\n",
        "\n",
        "*   $K_s$ as the steady-state capital for the short-run policy equilibrium (SRPE),\n",
        "\n",
        "- the optimal short-run policy at the SRPE,  \n",
        "- and its corresponding stationary asset distribution\n",
        "*   $K_c$ as the steady-state capital for the continuation policy equilibrium (CPE),\n",
        "\n",
        "- optimal continuation policy at the CPE,\n",
        "\n",
        "- and its corresponding stationary asset distribution\n"
      ],
      "metadata": {
        "id": "YO0CKxGSrJuM"
      }
    },
    {
      "cell_type": "markdown",
      "source": [
        "#### Step 2 Guess the time series and Backward Induction\n",
        "\n",
        "- Guess the time series $K_t$for $t=1,2,\\cdots, T$, where $t=1$ is the period of unexpected change in discount factor\n",
        "\n",
        "- $T$ is a sufficiently large future to ensure we arrive at another equilibrium after one unexpected change in discount factor\n",
        "\n",
        "- Now we have a finite-horizon DP problem.\n",
        "\n",
        "- We use backward induction to get the vaue functions and decision rules for $t=1,2,\\cdots T$"
      ],
      "metadata": {
        "id": "MSQiDXnesXyW"
      }
    },
    {
      "cell_type": "markdown",
      "source": [
        "#### Step 3 Forward simulation\n",
        "\n",
        "- Use the decision rule above, simulate the economy forward\n",
        "\n",
        "- calculate the simulated aggregate capital $K_t$ at $t=1,2,\\cdots, T$"
      ],
      "metadata": {
        "id": "mQYFy2B7tbLB"
      }
    },
    {
      "cell_type": "markdown",
      "source": [
        "#### Step 4 Compare to the guess and iterate until convergence."
      ],
      "metadata": {
        "id": "cLcGaUkKtvQQ"
      }
    },
    {
      "cell_type": "markdown",
      "source": [
        "Now, we create the following function to do the above iteration."
      ],
      "metadata": {
        "id": "p6apDZYNt4qq"
      }
    },
    {
      "cell_type": "code",
      "source": [
        "!git clone https://github.com/longye-tian/my-phd\n",
        "\n",
        "%run my-phd/QHD/PBMA_Ayagari.ipynb"
      ],
      "metadata": {
        "colab": {
          "base_uri": "https://localhost:8080/"
        },
        "id": "NtZE8GsraiM5",
        "outputId": "493d1d99-07aa-4cad-95e6-821120bf9a0a"
      },
      "execution_count": 1,
      "outputs": [
        {
          "output_type": "stream",
          "name": "stdout",
          "text": [
            "Cloning into 'my-phd'...\n",
            "remote: Enumerating objects: 352, done.\u001b[K\n",
            "remote: Counting objects: 100% (95/95), done.\u001b[K\n",
            "remote: Compressing objects: 100% (77/77), done.\u001b[K\n",
            "remote: Total 352 (delta 40), reused 23 (delta 9), pack-reused 257 (from 1)\u001b[K\n",
            "Receiving objects: 100% (352/352), 24.50 MiB | 27.21 MiB/s, done.\n",
            "Resolving deltas: 100% (115/115), done.\n"
          ]
        }
      ]
    },
    {
      "cell_type": "markdown",
      "source": [
        "We need a helper function to update the distribution."
      ],
      "metadata": {
        "id": "odCzG9l0ODx_"
      }
    },
    {
      "cell_type": "code",
      "source": [
        "# We modify out compute_asset_distribution a little bit to compute the joint distribution\n",
        "\n",
        "@jax.jit\n",
        "def compute_joint_stationary(σ, household):\n",
        "    # Unpack\n",
        "    β, δ, a_grid, z_grid, Π = household\n",
        "    a_size, z_size = len(a_grid), len(z_grid)\n",
        "\n",
        "    # Construct P_σ as an array of the form P_σ[i, j, ip, jp]\n",
        "    ap_idx = jnp.arange(a_size)\n",
        "    ap_idx = jnp.reshape(ap_idx, (1, 1, a_size, 1))\n",
        "    σ = jnp.reshape(σ, (a_size, z_size, 1, 1))\n",
        "    A = jnp.where(σ == ap_idx, 1, 0)\n",
        "    Π = jnp.reshape(Π, (1, z_size, 1, z_size))\n",
        "    P_σ = A * Π\n",
        "\n",
        "    # Reshape P_σ into a matrix\n",
        "    n = a_size * z_size\n",
        "    P_σ = jnp.reshape(P_σ, (n, n))\n",
        "\n",
        "    # Get stationary distribution and reshape back onto [i, j] grid\n",
        "    ψ = compute_stationary(P_σ)\n",
        "    ψ = jnp.reshape(ψ, (a_size, z_size))\n",
        "\n",
        "    return ψ\n",
        "\n",
        "# We also build a helper function to update the joint distribution.\n",
        "\n",
        "@jax.jit\n",
        "def update_joint_stationary(ψ, σ, household):\n",
        "    # Unpack\n",
        "    β, δ, a_grid, z_grid, Π = household\n",
        "    a_size, z_size = len(a_grid), len(z_grid)\n",
        "\n",
        "    # Construct P_σ as an array of the form P_σ[i, j, ip, jp]\n",
        "    ap_idx = jnp.arange(a_size)\n",
        "    ap_idx = jnp.reshape(ap_idx, (1, 1, a_size, 1))\n",
        "    σ = jnp.reshape(σ, (a_size, z_size, 1, 1))\n",
        "    A = jnp.where(σ == ap_idx, 1, 0)\n",
        "    Π = jnp.reshape(Π, (1, z_size, 1, z_size))\n",
        "    P_σ = A * Π\n",
        "\n",
        "    # Reshape P_σ into a matrix\n",
        "    n = a_size * z_size\n",
        "    P_σ = jnp.reshape(P_σ, (n, n))\n",
        "\n",
        "    # Reshape the input joint distribution into a vector\n",
        "    ψ = jnp.reshape(ψ, (n, ))\n",
        "\n",
        "    # Update the joint distribution\n",
        "    ψ_new = jnp.dot(ψ, P_σ)\n",
        "\n",
        "    # Reshape the updated joint distribution back to [i, j] grid\n",
        "    ψ_new = jnp.reshape(ψ_new, (a_size, z_size))\n",
        "\n",
        "\n",
        "    return ψ_new\n"
      ],
      "metadata": {
        "id": "R_D7y0icSyIY"
      },
      "execution_count": 2,
      "outputs": []
    },
    {
      "cell_type": "code",
      "execution_count": 3,
      "metadata": {
        "id": "pOxZaPKiom9A"
      },
      "outputs": [],
      "source": [
        "# Compute transition dynamics from SRPE to CPE\n",
        "\n",
        "def transit_SRPE_to_CPE(household,       # household parameters\n",
        "                        firm,            # firm parameters\n",
        "                        T=300,           # Max transition period\n",
        "                        γ=0.9,           # damping parameter\n",
        "                        max_iter=10000,  # maximum iteration\n",
        "                        tol=1e-3,        # tolerance\n",
        "                        verbose=True\n",
        "                        ):\n",
        "  # Step 1.1: Compute SRPE\n",
        "  print(\"Computing initial steady state.....\")\n",
        "\n",
        "  K_init, _ = compute_equilibrium_short(firm, household)        # Compute SRPE capital as initial capital\n",
        "  print(K_init)\n",
        "  r_init = r_given_k(K_init, firm)                              # Compute SRPE interest rate as initial interest rate\n",
        "  w_init = r_to_w(r_init, firm)                                 # Compute SRPE wage as initial wage\n",
        "  price_init = create_prices(r=r_init, w=w_init)                 # Compute SRPE price as initial price\n",
        "\n",
        "  σ_init, v_init = compute_lifetime(household, price_init)      # compute the SRPE optimal policy and value function\n",
        "\n",
        "  # Step 1.2: Compute CPE\n",
        "  print(\"Computing terminal steady state....\")\n",
        "\n",
        "  K_term, _ = compute_equilibrium_continuation(firm, household)     # Compute CPE capital as terminal capital\n",
        "  print(K_term)\n",
        "  r_term = r_given_k(K_term, firm)                                  # Compute CPE interest rate as terminal\n",
        "  w_term = r_to_w(r_term, firm)                                     # Compute CPE wage as terminal\n",
        "  price_term = create_prices(r=r_term, w=w_term)                     # Compute CPE price as terminal\n",
        "\n",
        "  σ_term, v_term = howard_policy_iteration(household, price_term)   # compute the CPE optimal policy and value function\n",
        "\n",
        "\n",
        "  # Step 1.3: Get initial stationary asset distribution\n",
        "  print(\"Computing Initial stationary distribution......\")\n",
        "\n",
        "  ψ_init = compute_joint_stationary(σ_init, household)       # Compute initial stationary joint distribution\n",
        "\n",
        "  # Step 2.1: Set up the Initial Guess\n",
        "  K_path = np.linspace(K_init, K_term, T)                    # Set up the initial guess\n",
        "\n",
        "  # Unpack the household parameters\n",
        "  β, δ, a_grid, z_grid, Π = household\n",
        "  a_size, z_size = len(a_grid), len(z_grid)\n",
        "\n",
        "  # Initialize arrays to store policies and value functions for each time period\n",
        "  σ_path = np.zeros((T, a_size, z_size))\n",
        "  v_path = np.zeros((T, a_size, z_size))\n",
        "\n",
        "  # Fill the initial and terminal as given\n",
        "  σ_path[0] = σ_init\n",
        "  v_path[0] = v_init\n",
        "  σ_path[-1] = σ_term\n",
        "  v_path[-1] = v_term\n",
        "\n",
        "\n",
        "  # For tracking convergence\n",
        "  iter_count = 0\n",
        "  max_diff = tol + 1\n",
        "\n",
        "  # Iteration Loop\n",
        "  while max_diff > tol and iter_count < max_iter:\n",
        "    # Compute interest rate and wages for the current capital path.\n",
        "    r_path = np.array([r_given_k(K, firm) for K in K_path])\n",
        "    w_path = np.array([r_to_w(r, firm) for r in r_path])\n",
        "\n",
        "    # Step 2.2 Backward Induction\n",
        "    # Start with final steady state value function\n",
        "    v_next  = v_term\n",
        "\n",
        "    # Backward induction\n",
        "    for t in range(T-2, 0, -1):\n",
        "\n",
        "      # Create prices for this period\n",
        "      price_t = create_prices(r=r_path[t], w=w_path[t])\n",
        "\n",
        "      # Solve a two-period DP problem under discount factor δ\n",
        "      σ_t = get_greedy(v_next, household, price_t)    # v_next-greedy policy\n",
        "      v_t = get_value(σ_t, household, price_t)        # σ_t-value function\n",
        "\n",
        "      # Store policies and value functions\n",
        "      σ_path[t] = σ_t\n",
        "      v_path[t] = v_t\n",
        "\n",
        "      # Update v_next for the next iteration\n",
        "      v_next = v_t\n",
        "\n",
        "    # Step 3: Forward Simulation\n",
        "    # Start with initial stationary joint distribution\n",
        "    ψ_t = ψ_init\n",
        "\n",
        "    # Initialize the forward simulation path\n",
        "    K_path_new = np.zeros(T)\n",
        "    K_path_new[0] = K_init\n",
        "    K_path_new[-1] = K_term\n",
        "\n",
        "    # Forward Simution\n",
        "    for t in range(1, T-1):\n",
        "\n",
        "      # Update distribution using policy function for period t\n",
        "      ψ_t = update_joint_stationary(ψ_t, σ_path[t], household)\n",
        "\n",
        "      # Compute aggregate capital implied by current distribution\n",
        "      K_path_new[t] = float(jnp.sum(jnp.sum(ψ_t, axis=1) * a_grid))\n",
        "\n",
        "    # print(K_path_new)\n",
        "\n",
        "    # Step 4: Check convergence and update capital path\n",
        "    max_diff = np.max(np.abs(K_path_new - K_path))\n",
        "\n",
        "    # Update capital path with damping\n",
        "    K_path = γ * K_path + (1 - γ) * K_path_new\n",
        "\n",
        "    # Update iteration count\n",
        "    iter_count += 1\n",
        "\n",
        "    if verbose and iter_count % 10 == 0:\n",
        "      print(f\"Iteration {iter_count}, max difference: {max_diff:.6f}\")\n",
        "\n",
        "  if max_diff <= tol:\n",
        "    print(f\"Convergence achieved after {iter_count} iterations.\")\n",
        "  else:\n",
        "    print(f\"Maximum iterations reached after {iter_count} without convergence.\")\n",
        "\n",
        "\n",
        "  # Compute transition path\n",
        "\n",
        "  transition_path = {\n",
        "      'K': K_path,\n",
        "      'σ': σ_path,\n",
        "      'v': v_path\n",
        "  }\n",
        "\n",
        "  return transition_path\n",
        "\n",
        "\n",
        "\n",
        "\n"
      ]
    },
    {
      "cell_type": "code",
      "source": [
        "firm = create_firm()\n",
        "household = create_household()\n",
        "transition_path = transit_SRPE_to_CPE(household, firm)"
      ],
      "metadata": {
        "colab": {
          "base_uri": "https://localhost:8080/"
        },
        "id": "a4cSmf-cciaz",
        "outputId": "693d6d3a-e977-4730-c8e9-bd9a6b5faed6"
      },
      "execution_count": 5,
      "outputs": [
        {
          "output_type": "stream",
          "name": "stdout",
          "text": [
            "Computing initial steady state.....\n",
            "3.8877112154088063\n",
            "Computing terminal steady state....\n",
            "8.09182514667204\n",
            "Computing Initial stationary distribution......\n",
            "Iteration 10, max difference: 0.864955\n",
            "Iteration 20, max difference: 0.148335\n",
            "Iteration 30, max difference: 0.032104\n",
            "Iteration 40, max difference: 0.008875\n",
            "Iteration 50, max difference: 0.004664\n",
            "Iteration 60, max difference: 0.003932\n",
            "Iteration 70, max difference: 0.004320\n",
            "Iteration 80, max difference: 0.004929\n",
            "Convergence achieved after 82 iterations.\n"
          ]
        }
      ]
    },
    {
      "cell_type": "code",
      "source": [
        "import matplotlib.pyplot as plt\n",
        "import numpy as np\n",
        "\n",
        "# Assuming your dictionary is stored in a variable called 'data_dict'\n",
        "# If your data is stored in a file, you'll need to load it first, like:\n",
        "# import pickle\n",
        "# with open('your_file.pkl', 'rb') as f:\n",
        "#     data_dict = pickle.load(f)\n",
        "\n",
        "# Extract the K values\n",
        "k_values = transition_path['K']\n",
        "\n",
        "# Create indices for the x-axis (0, 1, 2, ...)\n",
        "indices = np.arange(len(k_values))\n",
        "\n",
        "# Create the plot\n",
        "plt.figure(figsize=(10, 6))  # Set figure size\n",
        "plt.plot(indices, k_values, linewidth=2)  # Plot K values\n",
        "\n",
        "# Add labels and title\n",
        "plt.xlabel('Index', fontsize=12)\n",
        "plt.ylabel('K Value', fontsize=12)\n",
        "plt.title('Plot of K Values', fontsize=14)\n",
        "\n",
        "# Add grid for better readability\n",
        "plt.grid(True, linestyle='--', alpha=0.7)\n",
        "\n",
        "# Optional: Customize the appearance\n",
        "plt.tight_layout()  # Adjust layout to make room for labels\n",
        "\n",
        "# Show the plot\n",
        "plt.show()\n",
        "\n",
        "# Optional: Save the plot to a file\n",
        "# plt.savefig('k_values_plot.png', dpi=300, bbox_inches='tight')"
      ],
      "metadata": {
        "id": "cT3fUFgKsLwa",
        "outputId": "cb801991-3344-4549-9dfb-a3d6f3633ae4",
        "colab": {
          "base_uri": "https://localhost:8080/",
          "height": 607
        }
      },
      "execution_count": 6,
      "outputs": [
        {
          "output_type": "display_data",
          "data": {
            "text/plain": [
              "<Figure size 1000x600 with 1 Axes>"
            ],
            "image/png": "[encoded data removed]"
          },
          "metadata": {}
        }
      ]
    },
    {
      "cell_type": "markdown",
      "source": [
        "δ"
      ],
      "metadata": {
        "id": "y0VHbTW5vv7Y"
      }
    }
  ]
}