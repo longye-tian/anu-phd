{
  "nbformat": 4,
  "nbformat_minor": 0,
  "metadata": {
    "colab": {
      "provenance": [],
      "gpuType": "T4",
      "authorship_tag": "ABX9TyO0BQ8dqIzmG2HXKfye/tLf"
    },
    "kernelspec": {
      "name": "python3",
      "display_name": "Python 3"
    },
    "language_info": {
      "name": "python"
    },
    "accelerator": "GPU"
  },
  "cells": [
    {
      "cell_type": "markdown",
      "source": [
        "## Transition Dynamics for PBMA Aiyagari model"
      ],
      "metadata": {
        "id": "P3BcR_gBo9bj"
      }
    },
    {
      "cell_type": "markdown",
      "source": [
        "In this notebook, we discuss the transition dynamics from one equilibrium to the other equilibrium.\n",
        "\n",
        "I use the methodology in Section 4 of [Transition Dynamics in the Aiyagari Model, with an application to Wealth Tax by Toshihiko Mukoyama](https://toshimukoyama.github.io/MyWebsite/Aiyagari.pdf) and apply it to the current setup.\n",
        "\n",
        "Here I outline the algorithm as follows:"
      ],
      "metadata": {
        "id": "sWDQX9RrpEdr"
      }
    },
    {
      "cell_type": "markdown",
      "source": [
        "#### Step 1 Compute the Initial steady state and final steady state\n",
        "\n",
        "We have already accomplished this computation. We obtained\n",
        "\n",
        "\n",
        "\n",
        "*   $K_s$ as the steady-state capital for the short-run policy equilibrium (SRPE),\n",
        "\n",
        "- the optimal short-run policy at the SRPE,  \n",
        "- and its corresponding stationary asset distribution\n",
        "*   $K_c$ as the steady-state capital for the continuation policy equilibrium (CPE),\n",
        "\n",
        "- optimal continuation policy at the CPE,\n",
        "\n",
        "- and its corresponding stationary asset distribution\n"
      ],
      "metadata": {
        "id": "YO0CKxGSrJuM"
      }
    },
    {
      "cell_type": "markdown",
      "source": [
        "#### Step 2 Guess the time series and Backward Induction\n",
        "\n",
        "- Guess the time series $K_t$for $t=1,2,\\cdots, T$, where $t=1$ is the period of unexpected change in discount factor\n",
        "\n",
        "- $T$ is a sufficiently large future to ensure we arrive at another equilibrium after one unexpected change in discount factor\n",
        "\n",
        "- Now we have a finite-horizon DP problem.\n",
        "\n",
        "- We use backward induction to get the vaue functions and decision rules for $t=1,2,\\cdots T$"
      ],
      "metadata": {
        "id": "MSQiDXnesXyW"
      }
    },
    {
      "cell_type": "markdown",
      "source": [
        "#### Step 3 Forward simulation\n",
        "\n",
        "- Use the decision rule above, simulate the economy forward\n",
        "\n",
        "- calculate the simulated aggregate capital $K_t$ at $t=1,2,\\cdots, T$"
      ],
      "metadata": {
        "id": "mQYFy2B7tbLB"
      }
    },
    {
      "cell_type": "markdown",
      "source": [
        "#### Step 4 Compare to the guess and iterate until convergence."
      ],
      "metadata": {
        "id": "cLcGaUkKtvQQ"
      }
    },
    {
      "cell_type": "markdown",
      "source": [
        "Now, we create the following function to do the above iteration."
      ],
      "metadata": {
        "id": "p6apDZYNt4qq"
      }
    },
    {
      "cell_type": "code",
      "source": [
        "!git clone https://github.com/longye-tian/my-phd\n",
        "\n",
        "%run my-phd/QHD/PBMA_Ayagari.ipynb"
      ],
      "metadata": {
        "id": "NtZE8GsraiM5",
        "outputId": "49dfa7eb-d008-41fa-8a48-1a74176d3acf",
        "colab": {
          "base_uri": "https://localhost:8080/"
        }
      },
      "execution_count": 2,
      "outputs": [
        {
          "output_type": "stream",
          "name": "stdout",
          "text": [
            "Cloning into 'my-phd'...\n",
            "remote: Enumerating objects: 334, done.\u001b[K\n",
            "remote: Counting objects: 100% (77/77), done.\u001b[K\n",
            "remote: Compressing objects: 100% (62/62), done.\u001b[K\n",
            "remote: Total 334 (delta 31), reused 23 (delta 9), pack-reused 257 (from 1)\u001b[K\n",
            "Receiving objects: 100% (334/334), 24.49 MiB | 17.36 MiB/s, done.\n",
            "Resolving deltas: 100% (106/106), done.\n"
          ]
        }
      ]
    },
    {
      "cell_type": "code",
      "source": [
        "# First, we import the functions from PBMA_Ayagari.ipynb\n",
        "\n",
        "%run \"https://github.com/longye-tian/my-phd/blob/main/QHD/PBMA_Ayagari.ipynb\"\n",
        "\n"
      ],
      "metadata": {
        "id": "bpa3DGLft_VC",
        "outputId": "8e3bd94c-809e-4544-f343-ed8b8b9e54d0",
        "colab": {
          "base_uri": "https://localhost:8080/",
          "height": 443
        }
      },
      "execution_count": 1,
      "outputs": [
        {
          "output_type": "error",
          "ename": "Exception",
          "evalue": "File `'https://github.com/longye-tian/my-phd/blob/main/QHD/PBMA_Ayagari.ipynb.py'` not found.",
          "traceback": [
            "\u001b[0;31m---------------------------------------------------------------------------\u001b[0m",
            "\u001b[0;31mOSError\u001b[0m                                   Traceback (most recent call last)",
            "\u001b[0;32m/usr/local/lib/python3.11/dist-packages/IPython/core/magics/execution.py\u001b[0m in \u001b[0;36mrun\u001b[0;34m(self, parameter_s, runner, file_finder)\u001b[0m\n\u001b[1;32m    713\u001b[0m             \u001b[0mfpath\u001b[0m \u001b[0;34m=\u001b[0m \u001b[0marg_lst\u001b[0m\u001b[0;34m[\u001b[0m\u001b[0;36m0\u001b[0m\u001b[0;34m]\u001b[0m\u001b[0;34m\u001b[0m\u001b[0;34m\u001b[0m\u001b[0m\n\u001b[0;32m--> 714\u001b[0;31m             \u001b[0mfilename\u001b[0m \u001b[0;34m=\u001b[0m \u001b[0mfile_finder\u001b[0m\u001b[0;34m(\u001b[0m\u001b[0mfpath\u001b[0m\u001b[0;34m)\u001b[0m\u001b[0;34m\u001b[0m\u001b[0;34m\u001b[0m\u001b[0m\n\u001b[0m\u001b[1;32m    715\u001b[0m         \u001b[0;32mexcept\u001b[0m \u001b[0mIndexError\u001b[0m\u001b[0;34m:\u001b[0m\u001b[0;34m\u001b[0m\u001b[0;34m\u001b[0m\u001b[0m\n",
            "\u001b[0;32m/usr/local/lib/python3.11/dist-packages/IPython/utils/path.py\u001b[0m in \u001b[0;36mget_py_filename\u001b[0;34m(name, force_win32)\u001b[0m\n\u001b[1;32m    108\u001b[0m     \u001b[0;32melse\u001b[0m\u001b[0;34m:\u001b[0m\u001b[0;34m\u001b[0m\u001b[0;34m\u001b[0m\u001b[0m\n\u001b[0;32m--> 109\u001b[0;31m         \u001b[0;32mraise\u001b[0m \u001b[0mIOError\u001b[0m\u001b[0;34m(\u001b[0m\u001b[0;34m'File `%r` not found.'\u001b[0m \u001b[0;34m%\u001b[0m \u001b[0mname\u001b[0m\u001b[0;34m)\u001b[0m\u001b[0;34m\u001b[0m\u001b[0;34m\u001b[0m\u001b[0m\n\u001b[0m\u001b[1;32m    110\u001b[0m \u001b[0;34m\u001b[0m\u001b[0m\n",
            "\u001b[0;31mOSError\u001b[0m: File `'https://github.com/longye-tian/my-phd/blob/main/QHD/PBMA_Ayagari.ipynb.py'` not found.",
            "\nDuring handling of the above exception, another exception occurred:\n",
            "\u001b[0;31mException\u001b[0m                                 Traceback (most recent call last)",
            "\u001b[0;32m<ipython-input-1-ddae188d81b9>\u001b[0m in \u001b[0;36m<cell line: 0>\u001b[0;34m()\u001b[0m\n\u001b[1;32m      1\u001b[0m \u001b[0;31m# First, we import the functions from PBMA_Ayagari.ipynb\u001b[0m\u001b[0;34m\u001b[0m\u001b[0;34m\u001b[0m\u001b[0m\n\u001b[1;32m      2\u001b[0m \u001b[0;34m\u001b[0m\u001b[0m\n\u001b[0;32m----> 3\u001b[0;31m \u001b[0mget_ipython\u001b[0m\u001b[0;34m(\u001b[0m\u001b[0;34m)\u001b[0m\u001b[0;34m.\u001b[0m\u001b[0mrun_line_magic\u001b[0m\u001b[0;34m(\u001b[0m\u001b[0;34m'run'\u001b[0m\u001b[0;34m,\u001b[0m \u001b[0;34m'\"https://github.com/longye-tian/my-phd/blob/main/QHD/PBMA_Ayagari.ipynb\"'\u001b[0m\u001b[0;34m)\u001b[0m\u001b[0;34m\u001b[0m\u001b[0;34m\u001b[0m\u001b[0m\n\u001b[0m\u001b[1;32m      4\u001b[0m \u001b[0;34m\u001b[0m\u001b[0m\n",
            "\u001b[0;32m/usr/local/lib/python3.11/dist-packages/IPython/core/interactiveshell.py\u001b[0m in \u001b[0;36mrun_line_magic\u001b[0;34m(self, magic_name, line, _stack_depth)\u001b[0m\n\u001b[1;32m   2416\u001b[0m                 \u001b[0mkwargs\u001b[0m\u001b[0;34m[\u001b[0m\u001b[0;34m'local_ns'\u001b[0m\u001b[0;34m]\u001b[0m \u001b[0;34m=\u001b[0m \u001b[0mself\u001b[0m\u001b[0;34m.\u001b[0m\u001b[0mget_local_scope\u001b[0m\u001b[0;34m(\u001b[0m\u001b[0mstack_depth\u001b[0m\u001b[0;34m)\u001b[0m\u001b[0;34m\u001b[0m\u001b[0;34m\u001b[0m\u001b[0m\n\u001b[1;32m   2417\u001b[0m             \u001b[0;32mwith\u001b[0m \u001b[0mself\u001b[0m\u001b[0;34m.\u001b[0m\u001b[0mbuiltin_trap\u001b[0m\u001b[0;34m:\u001b[0m\u001b[0;34m\u001b[0m\u001b[0;34m\u001b[0m\u001b[0m\n\u001b[0;32m-> 2418\u001b[0;31m                 \u001b[0mresult\u001b[0m \u001b[0;34m=\u001b[0m \u001b[0mfn\u001b[0m\u001b[0;34m(\u001b[0m\u001b[0;34m*\u001b[0m\u001b[0margs\u001b[0m\u001b[0;34m,\u001b[0m \u001b[0;34m**\u001b[0m\u001b[0mkwargs\u001b[0m\u001b[0;34m)\u001b[0m\u001b[0;34m\u001b[0m\u001b[0;34m\u001b[0m\u001b[0m\n\u001b[0m\u001b[1;32m   2419\u001b[0m             \u001b[0;32mreturn\u001b[0m \u001b[0mresult\u001b[0m\u001b[0;34m\u001b[0m\u001b[0;34m\u001b[0m\u001b[0m\n\u001b[1;32m   2420\u001b[0m \u001b[0;34m\u001b[0m\u001b[0m\n",
            "\u001b[0;32m<decorator-gen-52>\u001b[0m in \u001b[0;36mrun\u001b[0;34m(self, parameter_s, runner, file_finder)\u001b[0m\n",
            "\u001b[0;32m/usr/local/lib/python3.11/dist-packages/IPython/core/magic.py\u001b[0m in \u001b[0;36m<lambda>\u001b[0;34m(f, *a, **k)\u001b[0m\n\u001b[1;32m    185\u001b[0m     \u001b[0;31m# but it's overkill for just that one bit of state.\u001b[0m\u001b[0;34m\u001b[0m\u001b[0;34m\u001b[0m\u001b[0m\n\u001b[1;32m    186\u001b[0m     \u001b[0;32mdef\u001b[0m \u001b[0mmagic_deco\u001b[0m\u001b[0;34m(\u001b[0m\u001b[0marg\u001b[0m\u001b[0;34m)\u001b[0m\u001b[0;34m:\u001b[0m\u001b[0;34m\u001b[0m\u001b[0;34m\u001b[0m\u001b[0m\n\u001b[0;32m--> 187\u001b[0;31m         \u001b[0mcall\u001b[0m \u001b[0;34m=\u001b[0m \u001b[0;32mlambda\u001b[0m \u001b[0mf\u001b[0m\u001b[0;34m,\u001b[0m \u001b[0;34m*\u001b[0m\u001b[0ma\u001b[0m\u001b[0;34m,\u001b[0m \u001b[0;34m**\u001b[0m\u001b[0mk\u001b[0m\u001b[0;34m:\u001b[0m \u001b[0mf\u001b[0m\u001b[0;34m(\u001b[0m\u001b[0;34m*\u001b[0m\u001b[0ma\u001b[0m\u001b[0;34m,\u001b[0m \u001b[0;34m**\u001b[0m\u001b[0mk\u001b[0m\u001b[0;34m)\u001b[0m\u001b[0;34m\u001b[0m\u001b[0;34m\u001b[0m\u001b[0m\n\u001b[0m\u001b[1;32m    188\u001b[0m \u001b[0;34m\u001b[0m\u001b[0m\n\u001b[1;32m    189\u001b[0m         \u001b[0;32mif\u001b[0m \u001b[0mcallable\u001b[0m\u001b[0;34m(\u001b[0m\u001b[0marg\u001b[0m\u001b[0;34m)\u001b[0m\u001b[0;34m:\u001b[0m\u001b[0;34m\u001b[0m\u001b[0;34m\u001b[0m\u001b[0m\n",
            "\u001b[0;32m/usr/local/lib/python3.11/dist-packages/IPython/core/magics/execution.py\u001b[0m in \u001b[0;36mrun\u001b[0;34m(self, parameter_s, runner, file_finder)\u001b[0m\n\u001b[1;32m    723\u001b[0m             \u001b[0;32mif\u001b[0m \u001b[0mos\u001b[0m\u001b[0;34m.\u001b[0m\u001b[0mname\u001b[0m \u001b[0;34m==\u001b[0m \u001b[0;34m'nt'\u001b[0m \u001b[0;32mand\u001b[0m \u001b[0mre\u001b[0m\u001b[0;34m.\u001b[0m\u001b[0mmatch\u001b[0m\u001b[0;34m(\u001b[0m\u001b[0;34mr\"^'.*'$\"\u001b[0m\u001b[0;34m,\u001b[0m\u001b[0mfpath\u001b[0m\u001b[0;34m)\u001b[0m\u001b[0;34m:\u001b[0m\u001b[0;34m\u001b[0m\u001b[0;34m\u001b[0m\u001b[0m\n\u001b[1;32m    724\u001b[0m                 \u001b[0mwarn\u001b[0m\u001b[0;34m(\u001b[0m\u001b[0;34m'For Windows, use double quotes to wrap a filename: %run \"mypath\\\\myfile.py\"'\u001b[0m\u001b[0;34m)\u001b[0m\u001b[0;34m\u001b[0m\u001b[0;34m\u001b[0m\u001b[0m\n\u001b[0;32m--> 725\u001b[0;31m             \u001b[0;32mraise\u001b[0m \u001b[0mException\u001b[0m\u001b[0;34m(\u001b[0m\u001b[0mmsg\u001b[0m\u001b[0;34m)\u001b[0m\u001b[0;34m\u001b[0m\u001b[0;34m\u001b[0m\u001b[0m\n\u001b[0m\u001b[1;32m    726\u001b[0m         \u001b[0;32mexcept\u001b[0m \u001b[0mTypeError\u001b[0m\u001b[0;34m:\u001b[0m\u001b[0;34m\u001b[0m\u001b[0;34m\u001b[0m\u001b[0m\n\u001b[1;32m    727\u001b[0m             \u001b[0;32mif\u001b[0m \u001b[0mfpath\u001b[0m \u001b[0;32min\u001b[0m \u001b[0msys\u001b[0m\u001b[0;34m.\u001b[0m\u001b[0mmeta_path\u001b[0m\u001b[0;34m:\u001b[0m\u001b[0;34m\u001b[0m\u001b[0;34m\u001b[0m\u001b[0m\n",
            "\u001b[0;31mException\u001b[0m: File `'https://github.com/longye-tian/my-phd/blob/main/QHD/PBMA_Ayagari.ipynb.py'` not found."
          ]
        }
      ]
    },
    {
      "cell_type": "markdown",
      "source": [
        "We need a helper function to update the distribution."
      ],
      "metadata": {
        "id": "odCzG9l0ODx_"
      }
    },
    {
      "cell_type": "code",
      "source": [
        "# We modify out compute_asset_distribution a little bit to compute the joint distribution\n",
        "\n",
        "@jax.jit\n",
        "def compute_joint_stationary(σ, household):\n",
        "    # Unpack\n",
        "    β, δ, a_grid, z_grid, Π = household\n",
        "    a_size, z_size = len(a_grid), len(z_grid)\n",
        "\n",
        "    # Construct P_σ as an array of the form P_σ[i, j, ip, jp]\n",
        "    ap_idx = jnp.arange(a_size)\n",
        "    ap_idx = jnp.reshape(ap_idx, (1, 1, a_size, 1))\n",
        "    σ = jnp.reshape(σ, (a_size, z_size, 1, 1))\n",
        "    A = jnp.where(σ == ap_idx, 1, 0)\n",
        "    Π = jnp.reshape(Π, (1, z_size, 1, z_size))\n",
        "    P_σ = A * Π\n",
        "\n",
        "    # Reshape P_σ into a matrix\n",
        "    n = a_size * z_size\n",
        "    P_σ = jnp.reshape(P_σ, (n, n))\n",
        "\n",
        "    # Get stationary distribution and reshape back onto [i, j] grid\n",
        "    ψ = compute_stationary(P_σ)\n",
        "    ψ = jnp.reshape(ψ, (a_size, z_size))\n",
        "\n",
        "    return ψ\n",
        "\n",
        "# We also build a helper function to update the joint distribution.\n",
        "\n",
        "@jax.jit\n",
        "def update_joint_stationary(ψ, σ, household):\n",
        "    # Unpack\n",
        "    β, δ, a_grid, z_grid, Π = household\n",
        "    a_size, z_size = len(a_grid), len(z_grid)\n",
        "\n",
        "    # Construct P_σ as an array of the form P_σ[i, j, ip, jp]\n",
        "    ap_idx = jnp.arange(a_size)\n",
        "    ap_idx = jnp.reshape(ap_idx, (1, 1, a_size, 1))\n",
        "    σ = jnp.reshape(σ, (a_size, z_size, 1, 1))\n",
        "    A = jnp.where(σ == ap_idx, 1, 0)\n",
        "    Π = jnp.reshape(Π, (1, z_size, 1, z_size))\n",
        "    P_σ = A * Π\n",
        "\n",
        "    # Reshape P_σ into a matrix\n",
        "    n = a_size * z_size\n",
        "    P_σ = jnp.reshape(P_σ, (n, n))\n",
        "\n",
        "    # Reshape the input joint distribution into a vector\n",
        "    ψ = jnp.reshape(ψ, (n, ))\n",
        "\n",
        "    # Update the joint distribution\n",
        "    ψ_new = jnp.dot(ψ, P_σ)\n",
        "\n",
        "    # Reshape the updated joint distribution back to [i, j] grid\n",
        "    ψ_new = jnp.reshape(ψ_new, (a_size, z_size))\n",
        "\n",
        "\n",
        "    return ψ_new\n"
      ],
      "metadata": {
        "id": "R_D7y0icSyIY"
      },
      "execution_count": 15,
      "outputs": []
    },
    {
      "cell_type": "code",
      "execution_count": 20,
      "metadata": {
        "id": "pOxZaPKiom9A"
      },
      "outputs": [],
      "source": [
        "# Compute transition dynamics from SRPE to CPE\n",
        "\n",
        "def transit_SRPE_to_CPE(household,       # household parameters\n",
        "                        firm,            # firm parameters\n",
        "                        T=300,           # Max transition period\n",
        "                        γ=0.9,           # damping parameter\n",
        "                        max_iter=10000,  # maximum iteration\n",
        "                        tol=1e-3,        # tolerance\n",
        "                        verbose=True\n",
        "                        ):\n",
        "  # Step 1.1: Compute SRPE\n",
        "  print(\"Computing initial steady state.....\")\n",
        "\n",
        "  K_init, _ = compute_equilibrium_short(firm, household)        # Compute SRPE capital as initial capital\n",
        "  print(K_init)\n",
        "  r_init = r_given_k(K_init, firm)                              # Compute SRPE interest rate as initial interest rate\n",
        "  w_init = r_to_w(r_init, firm)                                 # Compute SRPE wage as initial wage\n",
        "  price_init = create_prices(r=r_init, w=w_init)                 # Compute SRPE price as initial price\n",
        "\n",
        "  σ_init, v_init = compute_lifetime(household, price_init)      # compute the SRPE optimal policy and value function\n",
        "\n",
        "  # Step 1.2: Compute CPE\n",
        "  print(\"Computing terminal steady state....\")\n",
        "\n",
        "  K_term, _ = compute_equilibrium_continuation(firm, household)     # Compute CPE capital as terminal capital\n",
        "  print(K_term)\n",
        "  r_term = r_given_k(K_term, firm)                                  # Compute CPE interest rate as terminal\n",
        "  w_term = r_to_w(r_term, firm)                                     # Compute CPE wage as terminal\n",
        "  price_term = create_prices(r=r_term, w=w_term)                     # Compute CPE price as terminal\n",
        "\n",
        "  σ_term, v_term = howard_policy_iteration(household, price_term)   # compute the CPE optimal policy and value function\n",
        "\n",
        "\n",
        "  # Step 1.3: Get initial stationary asset distribution\n",
        "  print(\"Computing Initial stationary distribution......\")\n",
        "\n",
        "  ψ_init = compute_joint_stationary(σ_init, household)       # Compute initial stationary joint distribution\n",
        "\n",
        "  # Step 2.1: Set up the Initial Guess\n",
        "  K_path = np.linspace(K_init, K_term, T)                    # Set up the initial guess\n",
        "\n",
        "  # Unpack the household parameters\n",
        "  β, δ, a_grid, z_grid, Π = household\n",
        "  a_size, z_size = len(a_grid), len(z_grid)\n",
        "\n",
        "  # Initialize arrays to store policies and value functions for each time period\n",
        "  σ_path = np.zeros((T, a_size, z_size))\n",
        "  v_path = np.zeros((T, a_size, z_size))\n",
        "\n",
        "  # Fill the initial and terminal as given\n",
        "  σ_path[0] = σ_init\n",
        "  v_path[0] = v_init\n",
        "  σ_path[-1] = σ_term\n",
        "  v_path[-1] = v_term\n",
        "\n",
        "\n",
        "  # For tracking convergence\n",
        "  iter_count = 0\n",
        "  max_diff = tol + 1\n",
        "\n",
        "  # Iteration Loop\n",
        "  while max_diff > tol and iter_count < max_iter:\n",
        "    # Compute interest rate and wages for the current capital path.\n",
        "    r_path = np.array([r_given_k(K, firm) for K in K_path])\n",
        "    w_path = np.array([r_to_w(r, firm) for r in r_path])\n",
        "\n",
        "    # Step 2.2 Backward Induction\n",
        "    # Start with final steady state value function\n",
        "    v_next  = v_term\n",
        "\n",
        "    # Backward induction\n",
        "    for t in range(T-2, 0, -1):\n",
        "\n",
        "      # Create prices for this period\n",
        "      price_t = create_prices(r=r_path[t], w=w_path[t])\n",
        "\n",
        "      # Solve a two-period DP problem under discount factor δ\n",
        "      σ_t = get_greedy(v_next, household, price_t)    # v_next-greedy policy\n",
        "      v_t = get_value(σ_t, household, price_t)        # σ_t-value function\n",
        "\n",
        "      # Store policies and value functions\n",
        "      σ_path[t] = σ_t\n",
        "      v_path[t] = v_t\n",
        "\n",
        "      # Update v_next for the next iteration\n",
        "      v_next = v_t\n",
        "\n",
        "    # Step 3: Forward Simulation\n",
        "    # Start with initial stationary joint distribution\n",
        "    ψ_t = ψ_init\n",
        "\n",
        "    # Initialize the forward simulation path\n",
        "    K_path_new = np.zeros(T)\n",
        "    K_path_new[0] = K_init\n",
        "    K_path_new[-1] = K_term\n",
        "\n",
        "    # Forward Simution\n",
        "    for t in range(1, T-1):\n",
        "\n",
        "      # Update distribution using policy function for period t\n",
        "      ψ_t = update_joint_stationary(ψ_t, σ_path[t], household)\n",
        "\n",
        "      # Compute aggregate capital implied by current distribution\n",
        "      K_path_new[t] = float(jnp.sum(jnp.sum(ψ_t, axis=1) * a_grid))\n",
        "\n",
        "    # print(K_path_new)\n",
        "\n",
        "    # Step 4: Check convergence and update capital path\n",
        "    max_diff = np.max(np.abs(K_path_new - K_path))\n",
        "\n",
        "    # Update capital path with damping\n",
        "    K_path = γ * K_path + (1 - γ) * K_path_new\n",
        "\n",
        "    # Update iteration count\n",
        "    iter_count += 1\n",
        "\n",
        "    if verbose and iter_count % 10 == 0:\n",
        "      print(f\"Iteration {iter_count}, max difference: {max_diff:.6f}\")\n",
        "\n",
        "  if max_diff <= tol:\n",
        "    print(f\"Convergence achieved after {iter_count} iterations.\")\n",
        "  else:\n",
        "    print(f\"Maximum iterations reached after {iter_count} without convergence.\")\n",
        "\n",
        "\n",
        "  # Compute transition path\n",
        "\n",
        "  transition_path = {\n",
        "      'K': K_path,\n",
        "      'σ': σ_path,\n",
        "      'v': v_path\n",
        "  }\n",
        "\n",
        "  return transition_path\n",
        "\n",
        "\n",
        "\n",
        "\n"
      ]
    },
    {
      "cell_type": "code",
      "source": [
        "firm = create_firm()\n",
        "household = create_household()\n",
        "transit_SRPE_to_CPE(household, firm)"
      ],
      "metadata": {
        "id": "a4cSmf-cciaz",
        "outputId": "bb4ecf83-ad42-41b3-c753-f432ff936ccd",
        "colab": {
          "base_uri": "https://localhost:8080/"
        }
      },
      "execution_count": 21,
      "outputs": [
        {
          "output_type": "stream",
          "name": "stdout",
          "text": [
            "Computing initial steady state.....\n",
            "3.8877112154088063\n",
            "Computing terminal steady state....\n",
            "8.09182514667204\n",
            "Computing Initial stationary distribution......\n",
            "Iteration 10, max difference: 0.864955\n",
            "Iteration 20, max difference: 0.148335\n",
            "Iteration 30, max difference: 0.032104\n",
            "Iteration 40, max difference: 0.008875\n",
            "Iteration 50, max difference: 0.004661\n",
            "Iteration 60, max difference: 0.005949\n",
            "Iteration 70, max difference: 0.004180\n",
            "Iteration 80, max difference: 0.004830\n",
            "Convergence achieved after 82 iterations.\n"
          ]
        },
        {
          "output_type": "execute_result",
          "data": {
            "text/plain": [
              "{'K': array([3.88771122, 4.24824127, 4.59448459, 4.90835159, 5.21774161,\n",
              "        5.4966063 , 5.75813366, 5.98666931, 6.19278927, 6.38548673,\n",
              "        6.56085648, 6.71638421, 6.85753213, 6.98566034, 7.1008522 ,\n",
              "        7.20436469, 7.29800591, 7.3813354 , 7.45689031, 7.52439091,\n",
              "        7.58527281, 7.6401463 , 7.68937773, 7.73372456, 7.77345549,\n",
              "        7.8083292 , 7.83992604, 7.86814588, 7.89312752, 7.91485008,\n",
              "        7.93416428, 7.95173526, 7.96736456, 7.98129083, 7.9939259 ,\n",
              "        8.0048332 , 8.01494922, 8.02334604, 8.03108511, 8.03794266,\n",
              "        8.04405871, 8.0494337 , 8.05440609, 8.05879341, 8.06214635,\n",
              "        8.06538818, 8.06835859, 8.07077587, 8.07292982, 8.07510438,\n",
              "        8.07696304, 8.07865972, 8.08020563, 8.08153564, 8.08297344,\n",
              "        8.0839713 , 8.08524282, 8.08604494, 8.08680687, 8.08747094,\n",
              "        8.08807294, 8.08862313, 8.08917277, 8.08971038, 8.09022113,\n",
              "        8.0907476 , 8.09123492, 8.09166297, 8.09193773, 8.09223911,\n",
              "        8.09250593, 8.0927557 , 8.09297936, 8.09318162, 8.09338497,\n",
              "        8.0934232 , 8.09359257, 8.09350693, 8.09366981, 8.09357465,\n",
              "        8.09373131, 8.09364148, 8.09374949, 8.09364908, 8.09374089,\n",
              "        8.09362618, 8.09373682, 8.09361241, 8.09373144, 8.09360075,\n",
              "        8.09370939, 8.09357126, 8.09370805, 8.09356827, 8.09371333,\n",
              "        8.09356864, 8.09371137, 8.09357334, 8.09371434, 8.09357884,\n",
              "        8.09372012, 8.09358429, 8.09372638, 8.09360019, 8.09373864,\n",
              "        8.09360854, 8.09374605, 8.09361506, 8.09375335, 8.09361903,\n",
              "        8.09375758, 8.09362734, 8.09376661, 8.09363651, 8.0937749 ,\n",
              "        8.09364517, 8.09378397, 8.09365454, 8.09379626, 8.09366546,\n",
              "        8.09378903, 8.09365928, 8.0937718 , 8.09364137, 8.09375811,\n",
              "        8.09363041, 8.09375724, 8.09362732, 8.09375686, 8.09362759,\n",
              "        8.09375666, 8.09362684, 8.09375701, 8.09362744, 8.09375661,\n",
              "        8.09362587, 8.09375596, 8.09362806, 8.09375477, 8.09363027,\n",
              "        8.09375644, 8.09362847, 8.09375398, 8.09362254, 8.09374972,\n",
              "        8.09361889, 8.09374531, 8.09361108, 8.09373765, 8.09360374,\n",
              "        8.09373307, 8.09360018, 8.09372573, 8.09359249, 8.09371633,\n",
              "        8.09358435, 8.09370852, 8.09358973, 8.09371295, 8.09359241,\n",
              "        8.09371665, 8.09359541, 8.09371948, 8.09359938, 8.09372156,\n",
              "        8.09360165, 8.09372426, 8.09360733, 8.09373082, 8.09361372,\n",
              "        8.09373798, 8.09362211, 8.09374665, 8.09363068, 8.09375618,\n",
              "        8.09364074, 8.09376598, 8.09365024, 8.09377545, 8.09365853,\n",
              "        8.09378229, 8.09366743, 8.09378142, 8.09366749, 8.09378382,\n",
              "        8.09366955, 8.09377323, 8.09366951, 8.09377403, 8.09367129,\n",
              "        8.09377496, 8.09367009, 8.09378311, 8.09367872, 8.09376426,\n",
              "        8.09365818, 8.09376003, 8.09365092, 8.09374022, 8.09363802,\n",
              "        8.09372695, 8.09362393, 8.09371336, 8.093613  , 8.09369501,\n",
              "        8.09360267, 8.09368272, 8.09359079, 8.09366177, 8.09356987,\n",
              "        8.09365313, 8.09356594, 8.09364903, 8.09357576, 8.09365961,\n",
              "        8.09358786, 8.09367258, 8.09359729, 8.09367557, 8.09360778,\n",
              "        8.09368501, 8.09361867, 8.09369505, 8.09364564, 8.09372091,\n",
              "        8.09367414, 8.0937294 , 8.0936776 , 8.09371431, 8.09365994,\n",
              "        8.0937184 , 8.09364728, 8.09370805, 8.09363556, 8.0936985 ,\n",
              "        8.09362265, 8.09368777, 8.09361045, 8.09367636, 8.0935928 ,\n",
              "        8.09365634, 8.09357254, 8.09363645, 8.09355904, 8.09361874,\n",
              "        8.09356754, 8.09362858, 8.09357385, 8.09364068, 8.09358168,\n",
              "        8.09364997, 8.09359336, 8.09366422, 8.09360785, 8.09368001,\n",
              "        8.09361992, 8.09369187, 8.09363019, 8.09369928, 8.0936479 ,\n",
              "        8.09371694, 8.09365273, 8.09372429, 8.09365052, 8.0937233 ,\n",
              "        8.09364888, 8.09372515, 8.09364789, 8.09372361, 8.0936478 ,\n",
              "        8.09372329, 8.0936453 , 8.09372782, 8.09365025, 8.0937386 ,\n",
              "        8.09366642, 8.09374683, 8.09368093, 8.09374099, 8.09367412,\n",
              "        8.09373571, 8.09366883, 8.09372997, 8.09366601, 8.09372836,\n",
              "        8.09367424, 8.09373373, 8.09366993, 8.09372137, 8.09364967,\n",
              "        8.09371013, 8.09364634, 8.09368466, 8.0936228 , 8.09366334,\n",
              "        8.09359022, 8.09363411, 8.09352834, 8.09367567, 8.09182515]),\n",
              " 'σ': array([[[  0.,   4.],\n",
              "         [  0.,   5.],\n",
              "         [  0.,   6.],\n",
              "         ...,\n",
              "         [185., 186.],\n",
              "         [186., 187.],\n",
              "         [187., 187.]],\n",
              " \n",
              "        [[  0.,   7.],\n",
              "         [  0.,   8.],\n",
              "         [  1.,   9.],\n",
              "         ...,\n",
              "         [197., 199.],\n",
              "         [199., 199.],\n",
              "         [199., 199.]],\n",
              " \n",
              "        [[  0.,   7.],\n",
              "         [  0.,   8.],\n",
              "         [  1.,   9.],\n",
              "         ...,\n",
              "         [197., 199.],\n",
              "         [198., 199.],\n",
              "         [198., 199.]],\n",
              " \n",
              "        ...,\n",
              " \n",
              "        [[  0.,   7.],\n",
              "         [  0.,   8.],\n",
              "         [  1.,   9.],\n",
              "         ...,\n",
              "         [189., 198.],\n",
              "         [190., 199.],\n",
              "         [191., 199.]],\n",
              " \n",
              "        [[  0.,   7.],\n",
              "         [  0.,   8.],\n",
              "         [  1.,   9.],\n",
              "         ...,\n",
              "         [189., 198.],\n",
              "         [190., 199.],\n",
              "         [191., 199.]],\n",
              " \n",
              "        [[  0.,   7.],\n",
              "         [  0.,   8.],\n",
              "         [  1.,   9.],\n",
              "         ...,\n",
              "         [189., 198.],\n",
              "         [190., 199.],\n",
              "         [191., 199.]]]),\n",
              " 'v': array([[[ -4.0442699 ,  -0.87836836],\n",
              "         [ -3.33244041,  -0.84263408],\n",
              "         [ -2.92082463,  -0.8140729 ],\n",
              "         ...,\n",
              "         [  1.99213363,   2.399197  ],\n",
              "         [  1.99786292,   2.40396379],\n",
              "         [  2.00464414,   2.43217686]],\n",
              " \n",
              "        [[-20.74501109,  -6.20411493],\n",
              "         [-20.05153564,  -5.90749239],\n",
              "         [-19.38951214,  -5.61729124],\n",
              "         ...,\n",
              "         [ 16.6877118 ,  18.76497373],\n",
              "         [ 16.74925605,  18.8095997 ],\n",
              "         [ 16.81864113,  18.85231898]],\n",
              " \n",
              "        [[-21.05544174,  -6.91329844],\n",
              "         [-20.37775834,  -6.63549578],\n",
              "         [-19.73437771,  -6.36400414],\n",
              "         ...,\n",
              "         [ 15.0982296 ,  17.35473913],\n",
              "         [ 15.16531061,  17.40098664],\n",
              "         [ 15.23538044,  17.44518953]],\n",
              " \n",
              "        ...,\n",
              " \n",
              "        [[-21.00470118,  -8.78775114],\n",
              "         [-20.43039987,  -8.61896274],\n",
              "         [-19.90482896,  -8.45249542],\n",
              "         ...,\n",
              "         [  5.73313954,   8.98891025],\n",
              "         [  5.80180944,   9.04407032],\n",
              "         [  5.8702133 ,   9.09835153]],\n",
              " \n",
              "        [[-21.00461368,  -8.78769862],\n",
              "         [-20.43031541,  -8.61891081],\n",
              "         [-19.90474764,  -8.45244605],\n",
              "         ...,\n",
              "         [  5.73298083,   8.98875482],\n",
              "         [  5.80164984,   9.04391502],\n",
              "         [  5.87004966,   9.09819651]],\n",
              " \n",
              "        [[-21.0054155 ,  -8.78805735],\n",
              "         [-20.43107941,  -8.61923893],\n",
              "         [-19.9054704 ,  -8.45274967],\n",
              "         ...,\n",
              "         [  5.73530467,   8.99096399],\n",
              "         [  5.80398385,   9.04612264],\n",
              "         [  5.8723935 ,   9.10040062]]])}"
            ]
          },
          "metadata": {},
          "execution_count": 21
        }
      ]
    },
    {
      "cell_type": "markdown",
      "source": [
        "δ"
      ],
      "metadata": {
        "id": "y0VHbTW5vv7Y"
      }
    }
  ]
}